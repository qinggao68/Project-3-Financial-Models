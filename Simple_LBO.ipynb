{
 "cells": [
  {
   "cell_type": "markdown",
   "id": "b17aa41e-f8cc-41b3-888f-c89b7c9beed2",
   "metadata": {},
   "source": [
    "## LBO Model - Sample Case Study"
   ]
  },
  {
   "cell_type": "markdown",
   "id": "e5c9b9f1-6e35-476d-83e4-9de6342a8d3e",
   "metadata": {},
   "source": [
    "### I. Data Preparation"
   ]
  },
  {
   "cell_type": "code",
   "execution_count": 80,
   "id": "2fd0c4cb-0756-4ae4-bb1f-3ca2f247a12a",
   "metadata": {},
   "outputs": [],
   "source": [
    "# Import packages \n",
    "import pandas as pd\n",
    "import numpy as np"
   ]
  },
  {
   "cell_type": "markdown",
   "id": "a35f9ffa-2f7a-4298-830b-2cbbf4bf0ea4",
   "metadata": {},
   "source": [
    "### II. Calculate the Purchase Price of XXX Company"
   ]
  },
  {
   "cell_type": "code",
   "execution_count": 81,
   "id": "0bb55495-e29f-4f92-a40d-f6b97b86a809",
   "metadata": {},
   "outputs": [
    {
     "data": {
      "text/plain": [
       "{'purchase_multiple': 10,\n",
       " 'LTM_Rev': 150,\n",
       " 'EBITDA_Margin': 0.3,\n",
       " 'debt_ratio': 0.4,\n",
       " 'equity_ratio': 0.6,\n",
       " 'LTM_EBITDA': 45.0,\n",
       " 'purchase_TEV': 450.0}"
      ]
     },
     "execution_count": 81,
     "metadata": {},
     "output_type": "execute_result"
    }
   ],
   "source": [
    "# Create a dict to save variables for purchase price assumptions\n",
    "entry_assumptions = {\n",
    "    'purchase_multiple':10,\n",
    "    'LTM_Rev':150,\n",
    "    'EBITDA_Margin':.3,\n",
    "    'debt_ratio': .4,\n",
    "    'equity_ratio': .6,\n",
    "}\n",
    "entry_assumptions['LTM_EBITDA'] = entry_assumptions['LTM_Rev'] * entry_assumptions['EBITDA_Margin']\n",
    "entry_assumptions['purchase_TEV'] = entry_assumptions['purchase_multiple'] * entry_assumptions['LTM_EBITDA']\n",
    "entry_assumptions"
   ]
  },
  {
   "cell_type": "markdown",
   "id": "28b1f0e7-f0f0-4de3-a4d2-f646582f1e50",
   "metadata": {},
   "source": [
    "### III. Create the Sources & Uses Schedules"
   ]
  },
  {
   "cell_type": "markdown",
   "id": "6e51afc3-1084-4150-82e0-b2c66e766d3d",
   "metadata": {},
   "source": [
    "#### Uses Schedule"
   ]
  },
  {
   "cell_type": "code",
   "execution_count": 82,
   "id": "cb3bd4ad-ad45-489a-b012-a91569f38f6d",
   "metadata": {},
   "outputs": [
    {
     "data": {
      "text/plain": [
       "{'fin_adv_fees': 0.02, 'fees': 9.0, 'total_uses': 459.0}"
      ]
     },
     "execution_count": 82,
     "metadata": {},
     "output_type": "execute_result"
    }
   ],
   "source": [
    "# MOD - Create the uses schedule \n",
    "uses_sche = {\n",
    "    'fin_adv_fees':.02,\n",
    "}\n",
    "uses_sche['fees'] = uses_sche['fin_adv_fees'] * entry_assumptions['purchase_TEV']\n",
    "uses_sche['total_uses'] = uses_sche['fees'] + entry_assumptions['purchase_TEV']\n",
    "uses_sche"
   ]
  },
  {
   "cell_type": "markdown",
   "id": "e0aacfa9-6056-4ee6-a3ea-864cac15a3e0",
   "metadata": {},
   "source": [
    "#### Sources Schedule"
   ]
  },
  {
   "cell_type": "code",
   "execution_count": 83,
   "id": "84bb94e6-d546-4c74-8fb5-10869a4a2a8a",
   "metadata": {},
   "outputs": [
    {
     "data": {
      "text/plain": [
       "{'senior_bank': 3,\n",
       " 'sellers_note': 1,\n",
       " 'sen_bank_debt': 135.0,\n",
       " 'sellers_notes': 45.0,\n",
       " 'equity_funding': 279.0,\n",
       " 'total_sources': 459.0}"
      ]
     },
     "execution_count": 83,
     "metadata": {},
     "output_type": "execute_result"
    }
   ],
   "source": [
    "# MOD - Create the sources schedule \n",
    "sources_sche = {\n",
    "    'senior_bank':3,\n",
    "    'sellers_note':1,\n",
    "}\n",
    "sources_sche['sen_bank_debt'] = sources_sche['senior_bank'] * entry_assumptions['LTM_EBITDA']\n",
    "sources_sche['sellers_notes'] = sources_sche['sellers_note'] * entry_assumptions['LTM_EBITDA']\n",
    "sources_sche['equity_funding'] = uses_sche['total_uses'] - sources_sche['sellers_notes'] - sources_sche['sen_bank_debt']\n",
    "sources_sche['total_sources'] = sources_sche['sen_bank_debt'] + sources_sche['sellers_notes'] + sources_sche['equity_funding']\n",
    "sources_sche"
   ]
  },
  {
   "cell_type": "markdown",
   "id": "f0ea27a8-977f-4b03-a34c-65f910bbdebc",
   "metadata": {},
   "source": [
    "#### Equity Split "
   ]
  },
  {
   "cell_type": "code",
   "execution_count": 84,
   "id": "df6b5b8d-6ddf-4783-bfde-8e1a0a29497e",
   "metadata": {},
   "outputs": [
    {
     "data": {
      "text/plain": [
       "{'mgmt_equity_contri': 0.1,\n",
       " 'mgmt_earnout1': 0.15,\n",
       " 'mgmt_earnout2': 0.25,\n",
       " 'mgmt_equity': 27.900000000000002,\n",
       " 'shareholder_loan': 45.0,\n",
       " 'sponsor_equity': 206.1}"
      ]
     },
     "execution_count": 84,
     "metadata": {},
     "output_type": "execute_result"
    }
   ],
   "source": [
    "# Create the equity split table \n",
    "equity_split = {\n",
    "    'mgmt_equity_contri':.1,\n",
    "    'mgmt_earnout1':.15,\n",
    "    'mgmt_earnout2':.25,\n",
    "}\n",
    "equity_split['mgmt_equity'] = sources_sche['equity_funding'] * equity_split['mgmt_equity_contri']\n",
    "equity_split['shareholder_loan'] = entry_assumptions['LTM_EBITDA'] * 1\n",
    "equity_split['sponsor_equity'] = sources_sche['equity_funding'] - (equity_split['mgmt_equity'] + equity_split['shareholder_loan']) \n",
    "equity_split"
   ]
  },
  {
   "cell_type": "markdown",
   "id": "ab1aa9ff-f21d-4371-937c-432cc3028e28",
   "metadata": {},
   "source": [
    "### IV. Income Statement"
   ]
  },
  {
   "cell_type": "code",
   "execution_count": 85,
   "id": "a1fd7925-1378-4ebb-a89e-7ee1291efcc9",
   "metadata": {},
   "outputs": [
    {
     "data": {
      "application/com.datacamp.data-table.v1+json": {
       "is_truncated": false,
       "table": {
        "data": [
         {
          "1": null,
          "2": null,
          "3": null,
          "4": null,
          "5": null,
          "6": null,
          "index": "Sales"
         },
         {
          "1": null,
          "2": null,
          "3": null,
          "4": null,
          "5": null,
          "6": null,
          "index": "EBITDA"
         },
         {
          "1": null,
          "2": null,
          "3": null,
          "4": null,
          "5": null,
          "6": null,
          "index": "less: D&A"
         },
         {
          "1": null,
          "2": null,
          "3": null,
          "4": null,
          "5": null,
          "6": null,
          "index": "EBIT"
         },
         {
          "1": null,
          "2": null,
          "3": null,
          "4": null,
          "5": null,
          "6": null,
          "index": "less: Interest"
         },
         {
          "1": null,
          "2": null,
          "3": null,
          "4": null,
          "5": null,
          "6": null,
          "index": "Pre-Tax Income"
         },
         {
          "1": null,
          "2": null,
          "3": null,
          "4": null,
          "5": null,
          "6": null,
          "index": "less: Taxes"
         },
         {
          "1": null,
          "2": null,
          "3": null,
          "4": null,
          "5": null,
          "6": null,
          "index": "Net Income"
         }
        ],
        "schema": {
         "fields": [
          {
           "name": "index",
           "type": "string"
          },
          {
           "name": 1,
           "type": "string"
          },
          {
           "name": 2,
           "type": "string"
          },
          {
           "name": 3,
           "type": "string"
          },
          {
           "name": 4,
           "type": "string"
          },
          {
           "name": 5,
           "type": "string"
          },
          {
           "name": 6,
           "type": "string"
          }
         ],
         "pandas_version": "0.20.0",
         "primaryKey": [
          "index"
         ]
        }
       },
       "total_rows": 8
      },
      "text/html": [
       "<div>\n",
       "<style scoped>\n",
       "    .dataframe tbody tr th:only-of-type {\n",
       "        vertical-align: middle;\n",
       "    }\n",
       "\n",
       "    .dataframe tbody tr th {\n",
       "        vertical-align: top;\n",
       "    }\n",
       "\n",
       "    .dataframe thead th {\n",
       "        text-align: right;\n",
       "    }\n",
       "</style>\n",
       "<table border=\"1\" class=\"dataframe\">\n",
       "  <thead>\n",
       "    <tr style=\"text-align: right;\">\n",
       "      <th></th>\n",
       "      <th>1</th>\n",
       "      <th>2</th>\n",
       "      <th>3</th>\n",
       "      <th>4</th>\n",
       "      <th>5</th>\n",
       "      <th>6</th>\n",
       "    </tr>\n",
       "  </thead>\n",
       "  <tbody>\n",
       "    <tr>\n",
       "      <th>Sales</th>\n",
       "      <td>NaN</td>\n",
       "      <td>NaN</td>\n",
       "      <td>NaN</td>\n",
       "      <td>NaN</td>\n",
       "      <td>NaN</td>\n",
       "      <td>NaN</td>\n",
       "    </tr>\n",
       "    <tr>\n",
       "      <th>EBITDA</th>\n",
       "      <td>NaN</td>\n",
       "      <td>NaN</td>\n",
       "      <td>NaN</td>\n",
       "      <td>NaN</td>\n",
       "      <td>NaN</td>\n",
       "      <td>NaN</td>\n",
       "    </tr>\n",
       "    <tr>\n",
       "      <th>less: D&amp;A</th>\n",
       "      <td>NaN</td>\n",
       "      <td>NaN</td>\n",
       "      <td>NaN</td>\n",
       "      <td>NaN</td>\n",
       "      <td>NaN</td>\n",
       "      <td>NaN</td>\n",
       "    </tr>\n",
       "    <tr>\n",
       "      <th>EBIT</th>\n",
       "      <td>NaN</td>\n",
       "      <td>NaN</td>\n",
       "      <td>NaN</td>\n",
       "      <td>NaN</td>\n",
       "      <td>NaN</td>\n",
       "      <td>NaN</td>\n",
       "    </tr>\n",
       "    <tr>\n",
       "      <th>less: Interest</th>\n",
       "      <td>NaN</td>\n",
       "      <td>NaN</td>\n",
       "      <td>NaN</td>\n",
       "      <td>NaN</td>\n",
       "      <td>NaN</td>\n",
       "      <td>NaN</td>\n",
       "    </tr>\n",
       "    <tr>\n",
       "      <th>Pre-Tax Income</th>\n",
       "      <td>NaN</td>\n",
       "      <td>NaN</td>\n",
       "      <td>NaN</td>\n",
       "      <td>NaN</td>\n",
       "      <td>NaN</td>\n",
       "      <td>NaN</td>\n",
       "    </tr>\n",
       "    <tr>\n",
       "      <th>less: Taxes</th>\n",
       "      <td>NaN</td>\n",
       "      <td>NaN</td>\n",
       "      <td>NaN</td>\n",
       "      <td>NaN</td>\n",
       "      <td>NaN</td>\n",
       "      <td>NaN</td>\n",
       "    </tr>\n",
       "    <tr>\n",
       "      <th>Net Income</th>\n",
       "      <td>NaN</td>\n",
       "      <td>NaN</td>\n",
       "      <td>NaN</td>\n",
       "      <td>NaN</td>\n",
       "      <td>NaN</td>\n",
       "      <td>NaN</td>\n",
       "    </tr>\n",
       "  </tbody>\n",
       "</table>\n",
       "</div>"
      ],
      "text/plain": [
       "                  1    2    3    4    5    6\n",
       "Sales           NaN  NaN  NaN  NaN  NaN  NaN\n",
       "EBITDA          NaN  NaN  NaN  NaN  NaN  NaN\n",
       "less: D&A       NaN  NaN  NaN  NaN  NaN  NaN\n",
       "EBIT            NaN  NaN  NaN  NaN  NaN  NaN\n",
       "less: Interest  NaN  NaN  NaN  NaN  NaN  NaN\n",
       "Pre-Tax Income  NaN  NaN  NaN  NaN  NaN  NaN\n",
       "less: Taxes     NaN  NaN  NaN  NaN  NaN  NaN\n",
       "Net Income      NaN  NaN  NaN  NaN  NaN  NaN"
      ]
     },
     "execution_count": 85,
     "metadata": {},
     "output_type": "execute_result"
    }
   ],
   "source": [
    "# Create a dataframe to take in 5 years of projection \n",
    "years = [1, 2, 3, 4, 5, 6]\n",
    "rows = ['Sales', 'EBITDA', 'less: D&A', 'EBIT', 'less: Interest', 'Pre-Tax Income', 'less: Taxes', 'Net Income']\n",
    "IS = pd.DataFrame(data = None,index = rows, columns = years)\n",
    "IS"
   ]
  },
  {
   "cell_type": "code",
   "execution_count": 86,
   "id": "1c2d2bfe-cb85-41b2-b6d6-31c700c68479",
   "metadata": {},
   "outputs": [
    {
     "data": {
      "text/plain": [
       "{'rev_growth': 1.1,\n",
       " 'int_rate': 0.13,\n",
       " 'EBITDA_margin': 0.3,\n",
       " 'tax_rate': 0.3,\n",
       " 'CAPEX % of Sales': 0.07,\n",
       " 'Depre % of Sales': 0.05,\n",
       " 'change_in_NWC': 3}"
      ]
     },
     "execution_count": 86,
     "metadata": {},
     "output_type": "execute_result"
    }
   ],
   "source": [
    "# Create a dictionary to save variables for Income Statement projection\n",
    "IS_assumptions = {\n",
    "    \"rev_growth\": 1.1,\n",
    "    \"int_rate\": .13,\n",
    "    \"EBITDA_margin\": entry_assumptions['EBITDA_Margin'],\n",
    "    'tax_rate':.3,\n",
    "    'CAPEX % of Sales':.07,\n",
    "    'Depre % of Sales':0.05,\n",
    "    'change_in_NWC':3,\n",
    "}\n",
    "IS_assumptions"
   ]
  },
  {
   "cell_type": "code",
   "execution_count": 87,
   "id": "1eb44350-6213-4b45-a339-0bc320fac5d7",
   "metadata": {},
   "outputs": [
    {
     "data": {
      "application/com.datacamp.data-table.v1+json": {
       "is_truncated": false,
       "table": {
        "data": [
         {
          "1": 150,
          "2": 165,
          "3": 181.5,
          "4": 199.65,
          "5": 219.615,
          "6": 241.5765,
          "index": "Sales"
         },
         {
          "1": null,
          "2": null,
          "3": null,
          "4": null,
          "5": null,
          "6": null,
          "index": "EBITDA"
         },
         {
          "1": null,
          "2": null,
          "3": null,
          "4": null,
          "5": null,
          "6": null,
          "index": "less: D&A"
         },
         {
          "1": null,
          "2": null,
          "3": null,
          "4": null,
          "5": null,
          "6": null,
          "index": "EBIT"
         },
         {
          "1": null,
          "2": null,
          "3": null,
          "4": null,
          "5": null,
          "6": null,
          "index": "less: Interest"
         },
         {
          "1": null,
          "2": null,
          "3": null,
          "4": null,
          "5": null,
          "6": null,
          "index": "Pre-Tax Income"
         },
         {
          "1": null,
          "2": null,
          "3": null,
          "4": null,
          "5": null,
          "6": null,
          "index": "less: Taxes"
         },
         {
          "1": null,
          "2": null,
          "3": null,
          "4": null,
          "5": null,
          "6": null,
          "index": "Net Income"
         }
        ],
        "schema": {
         "fields": [
          {
           "name": "index",
           "type": "string"
          },
          {
           "name": 1,
           "type": "string"
          },
          {
           "name": 2,
           "type": "string"
          },
          {
           "name": 3,
           "type": "string"
          },
          {
           "name": 4,
           "type": "string"
          },
          {
           "name": 5,
           "type": "string"
          },
          {
           "name": 6,
           "type": "string"
          }
         ],
         "pandas_version": "0.20.0",
         "primaryKey": [
          "index"
         ]
        }
       },
       "total_rows": 8
      },
      "text/html": [
       "<div>\n",
       "<style scoped>\n",
       "    .dataframe tbody tr th:only-of-type {\n",
       "        vertical-align: middle;\n",
       "    }\n",
       "\n",
       "    .dataframe tbody tr th {\n",
       "        vertical-align: top;\n",
       "    }\n",
       "\n",
       "    .dataframe thead th {\n",
       "        text-align: right;\n",
       "    }\n",
       "</style>\n",
       "<table border=\"1\" class=\"dataframe\">\n",
       "  <thead>\n",
       "    <tr style=\"text-align: right;\">\n",
       "      <th></th>\n",
       "      <th>1</th>\n",
       "      <th>2</th>\n",
       "      <th>3</th>\n",
       "      <th>4</th>\n",
       "      <th>5</th>\n",
       "      <th>6</th>\n",
       "    </tr>\n",
       "  </thead>\n",
       "  <tbody>\n",
       "    <tr>\n",
       "      <th>Sales</th>\n",
       "      <td>150</td>\n",
       "      <td>165.0</td>\n",
       "      <td>181.5</td>\n",
       "      <td>199.65</td>\n",
       "      <td>219.615</td>\n",
       "      <td>241.5765</td>\n",
       "    </tr>\n",
       "    <tr>\n",
       "      <th>EBITDA</th>\n",
       "      <td>NaN</td>\n",
       "      <td>NaN</td>\n",
       "      <td>NaN</td>\n",
       "      <td>NaN</td>\n",
       "      <td>NaN</td>\n",
       "      <td>NaN</td>\n",
       "    </tr>\n",
       "    <tr>\n",
       "      <th>less: D&amp;A</th>\n",
       "      <td>NaN</td>\n",
       "      <td>NaN</td>\n",
       "      <td>NaN</td>\n",
       "      <td>NaN</td>\n",
       "      <td>NaN</td>\n",
       "      <td>NaN</td>\n",
       "    </tr>\n",
       "    <tr>\n",
       "      <th>EBIT</th>\n",
       "      <td>NaN</td>\n",
       "      <td>NaN</td>\n",
       "      <td>NaN</td>\n",
       "      <td>NaN</td>\n",
       "      <td>NaN</td>\n",
       "      <td>NaN</td>\n",
       "    </tr>\n",
       "    <tr>\n",
       "      <th>less: Interest</th>\n",
       "      <td>NaN</td>\n",
       "      <td>NaN</td>\n",
       "      <td>NaN</td>\n",
       "      <td>NaN</td>\n",
       "      <td>NaN</td>\n",
       "      <td>NaN</td>\n",
       "    </tr>\n",
       "    <tr>\n",
       "      <th>Pre-Tax Income</th>\n",
       "      <td>NaN</td>\n",
       "      <td>NaN</td>\n",
       "      <td>NaN</td>\n",
       "      <td>NaN</td>\n",
       "      <td>NaN</td>\n",
       "      <td>NaN</td>\n",
       "    </tr>\n",
       "    <tr>\n",
       "      <th>less: Taxes</th>\n",
       "      <td>NaN</td>\n",
       "      <td>NaN</td>\n",
       "      <td>NaN</td>\n",
       "      <td>NaN</td>\n",
       "      <td>NaN</td>\n",
       "      <td>NaN</td>\n",
       "    </tr>\n",
       "    <tr>\n",
       "      <th>Net Income</th>\n",
       "      <td>NaN</td>\n",
       "      <td>NaN</td>\n",
       "      <td>NaN</td>\n",
       "      <td>NaN</td>\n",
       "      <td>NaN</td>\n",
       "      <td>NaN</td>\n",
       "    </tr>\n",
       "  </tbody>\n",
       "</table>\n",
       "</div>"
      ],
      "text/plain": [
       "                  1      2      3       4        5         6\n",
       "Sales           150  165.0  181.5  199.65  219.615  241.5765\n",
       "EBITDA          NaN    NaN    NaN     NaN      NaN       NaN\n",
       "less: D&A       NaN    NaN    NaN     NaN      NaN       NaN\n",
       "EBIT            NaN    NaN    NaN     NaN      NaN       NaN\n",
       "less: Interest  NaN    NaN    NaN     NaN      NaN       NaN\n",
       "Pre-Tax Income  NaN    NaN    NaN     NaN      NaN       NaN\n",
       "less: Taxes     NaN    NaN    NaN     NaN      NaN       NaN\n",
       "Net Income      NaN    NaN    NaN     NaN      NaN       NaN"
      ]
     },
     "execution_count": 87,
     "metadata": {},
     "output_type": "execute_result"
    }
   ],
   "source": [
    "# Assume a flat 10% growth rate for the next 5 years \n",
    "IS[1].loc['Sales'] = entry_assumptions['LTM_Rev']\n",
    "i = 2\n",
    "while i <= len(IS.loc['Sales']):\n",
    "    IS[i].loc['Sales'] = IS[(i-1)].loc['Sales'] * 1.10\n",
    "    i += 1\n",
    "    \n",
    "IS"
   ]
  },
  {
   "cell_type": "code",
   "execution_count": 88,
   "id": "54cd6a15-f493-4863-954c-7fa208890e92",
   "metadata": {},
   "outputs": [
    {
     "data": {
      "application/com.datacamp.data-table.v1+json": {
       "is_truncated": false,
       "table": {
        "data": [
         {
          "1": 150,
          "2": 165,
          "3": 181.5,
          "4": 199.65,
          "5": 219.615,
          "6": 241.5765,
          "index": "Sales"
         },
         {
          "1": 45,
          "2": 49.5,
          "3": 54.45,
          "4": 59.895,
          "5": 65.8845,
          "6": 72.47295,
          "index": "EBITDA"
         },
         {
          "1": null,
          "2": null,
          "3": null,
          "4": null,
          "5": null,
          "6": null,
          "index": "less: D&A"
         },
         {
          "1": null,
          "2": null,
          "3": null,
          "4": null,
          "5": null,
          "6": null,
          "index": "EBIT"
         },
         {
          "1": null,
          "2": null,
          "3": null,
          "4": null,
          "5": null,
          "6": null,
          "index": "less: Interest"
         },
         {
          "1": null,
          "2": null,
          "3": null,
          "4": null,
          "5": null,
          "6": null,
          "index": "Pre-Tax Income"
         },
         {
          "1": null,
          "2": null,
          "3": null,
          "4": null,
          "5": null,
          "6": null,
          "index": "less: Taxes"
         },
         {
          "1": null,
          "2": null,
          "3": null,
          "4": null,
          "5": null,
          "6": null,
          "index": "Net Income"
         }
        ],
        "schema": {
         "fields": [
          {
           "name": "index",
           "type": "string"
          },
          {
           "name": 1,
           "type": "string"
          },
          {
           "name": 2,
           "type": "string"
          },
          {
           "name": 3,
           "type": "string"
          },
          {
           "name": 4,
           "type": "string"
          },
          {
           "name": 5,
           "type": "string"
          },
          {
           "name": 6,
           "type": "string"
          }
         ],
         "pandas_version": "0.20.0",
         "primaryKey": [
          "index"
         ]
        }
       },
       "total_rows": 8
      },
      "text/html": [
       "<div>\n",
       "<style scoped>\n",
       "    .dataframe tbody tr th:only-of-type {\n",
       "        vertical-align: middle;\n",
       "    }\n",
       "\n",
       "    .dataframe tbody tr th {\n",
       "        vertical-align: top;\n",
       "    }\n",
       "\n",
       "    .dataframe thead th {\n",
       "        text-align: right;\n",
       "    }\n",
       "</style>\n",
       "<table border=\"1\" class=\"dataframe\">\n",
       "  <thead>\n",
       "    <tr style=\"text-align: right;\">\n",
       "      <th></th>\n",
       "      <th>1</th>\n",
       "      <th>2</th>\n",
       "      <th>3</th>\n",
       "      <th>4</th>\n",
       "      <th>5</th>\n",
       "      <th>6</th>\n",
       "    </tr>\n",
       "  </thead>\n",
       "  <tbody>\n",
       "    <tr>\n",
       "      <th>Sales</th>\n",
       "      <td>150</td>\n",
       "      <td>165.0</td>\n",
       "      <td>181.5</td>\n",
       "      <td>199.65</td>\n",
       "      <td>219.615</td>\n",
       "      <td>241.5765</td>\n",
       "    </tr>\n",
       "    <tr>\n",
       "      <th>EBITDA</th>\n",
       "      <td>45.0</td>\n",
       "      <td>49.5</td>\n",
       "      <td>54.45</td>\n",
       "      <td>59.895</td>\n",
       "      <td>65.8845</td>\n",
       "      <td>72.47295</td>\n",
       "    </tr>\n",
       "    <tr>\n",
       "      <th>less: D&amp;A</th>\n",
       "      <td>NaN</td>\n",
       "      <td>NaN</td>\n",
       "      <td>NaN</td>\n",
       "      <td>NaN</td>\n",
       "      <td>NaN</td>\n",
       "      <td>NaN</td>\n",
       "    </tr>\n",
       "    <tr>\n",
       "      <th>EBIT</th>\n",
       "      <td>NaN</td>\n",
       "      <td>NaN</td>\n",
       "      <td>NaN</td>\n",
       "      <td>NaN</td>\n",
       "      <td>NaN</td>\n",
       "      <td>NaN</td>\n",
       "    </tr>\n",
       "    <tr>\n",
       "      <th>less: Interest</th>\n",
       "      <td>NaN</td>\n",
       "      <td>NaN</td>\n",
       "      <td>NaN</td>\n",
       "      <td>NaN</td>\n",
       "      <td>NaN</td>\n",
       "      <td>NaN</td>\n",
       "    </tr>\n",
       "    <tr>\n",
       "      <th>Pre-Tax Income</th>\n",
       "      <td>NaN</td>\n",
       "      <td>NaN</td>\n",
       "      <td>NaN</td>\n",
       "      <td>NaN</td>\n",
       "      <td>NaN</td>\n",
       "      <td>NaN</td>\n",
       "    </tr>\n",
       "    <tr>\n",
       "      <th>less: Taxes</th>\n",
       "      <td>NaN</td>\n",
       "      <td>NaN</td>\n",
       "      <td>NaN</td>\n",
       "      <td>NaN</td>\n",
       "      <td>NaN</td>\n",
       "      <td>NaN</td>\n",
       "    </tr>\n",
       "    <tr>\n",
       "      <th>Net Income</th>\n",
       "      <td>NaN</td>\n",
       "      <td>NaN</td>\n",
       "      <td>NaN</td>\n",
       "      <td>NaN</td>\n",
       "      <td>NaN</td>\n",
       "      <td>NaN</td>\n",
       "    </tr>\n",
       "  </tbody>\n",
       "</table>\n",
       "</div>"
      ],
      "text/plain": [
       "                   1      2      3       4        5         6\n",
       "Sales            150  165.0  181.5  199.65  219.615  241.5765\n",
       "EBITDA          45.0   49.5  54.45  59.895  65.8845  72.47295\n",
       "less: D&A        NaN    NaN    NaN     NaN      NaN       NaN\n",
       "EBIT             NaN    NaN    NaN     NaN      NaN       NaN\n",
       "less: Interest   NaN    NaN    NaN     NaN      NaN       NaN\n",
       "Pre-Tax Income   NaN    NaN    NaN     NaN      NaN       NaN\n",
       "less: Taxes      NaN    NaN    NaN     NaN      NaN       NaN\n",
       "Net Income       NaN    NaN    NaN     NaN      NaN       NaN"
      ]
     },
     "execution_count": 88,
     "metadata": {},
     "output_type": "execute_result"
    }
   ],
   "source": [
    "# Project EBITDA using a constant % EBITDA margin assumptions\n",
    "IS.loc['EBITDA'] = IS.loc['Sales'] * IS_assumptions['EBITDA_margin']\n",
    "IS"
   ]
  },
  {
   "cell_type": "code",
   "execution_count": 89,
   "id": "561ed92d-08e9-47bc-991c-46a3b71afcbb",
   "metadata": {},
   "outputs": [
    {
     "data": {
      "application/com.datacamp.data-table.v1+json": {
       "is_truncated": false,
       "table": {
        "data": [
         {
          "1": 150,
          "2": 165,
          "3": 181.5,
          "4": 199.65,
          "5": 219.615,
          "6": 241.5765,
          "index": "Sales"
         },
         {
          "1": 45,
          "2": 49.5,
          "3": 54.45,
          "4": 59.895,
          "5": 65.8845,
          "6": 72.47295,
          "index": "EBITDA"
         },
         {
          "1": -7.5,
          "2": -8.25,
          "3": -9.075,
          "4": -9.9825,
          "5": -10.98075,
          "6": -12.078825,
          "index": "less: D&A"
         },
         {
          "1": null,
          "2": null,
          "3": null,
          "4": null,
          "5": null,
          "6": null,
          "index": "EBIT"
         },
         {
          "1": null,
          "2": null,
          "3": null,
          "4": null,
          "5": null,
          "6": null,
          "index": "less: Interest"
         },
         {
          "1": null,
          "2": null,
          "3": null,
          "4": null,
          "5": null,
          "6": null,
          "index": "Pre-Tax Income"
         },
         {
          "1": null,
          "2": null,
          "3": null,
          "4": null,
          "5": null,
          "6": null,
          "index": "less: Taxes"
         },
         {
          "1": null,
          "2": null,
          "3": null,
          "4": null,
          "5": null,
          "6": null,
          "index": "Net Income"
         }
        ],
        "schema": {
         "fields": [
          {
           "name": "index",
           "type": "string"
          },
          {
           "name": 1,
           "type": "string"
          },
          {
           "name": 2,
           "type": "string"
          },
          {
           "name": 3,
           "type": "string"
          },
          {
           "name": 4,
           "type": "string"
          },
          {
           "name": 5,
           "type": "string"
          },
          {
           "name": 6,
           "type": "string"
          }
         ],
         "pandas_version": "0.20.0",
         "primaryKey": [
          "index"
         ]
        }
       },
       "total_rows": 8
      },
      "text/html": [
       "<div>\n",
       "<style scoped>\n",
       "    .dataframe tbody tr th:only-of-type {\n",
       "        vertical-align: middle;\n",
       "    }\n",
       "\n",
       "    .dataframe tbody tr th {\n",
       "        vertical-align: top;\n",
       "    }\n",
       "\n",
       "    .dataframe thead th {\n",
       "        text-align: right;\n",
       "    }\n",
       "</style>\n",
       "<table border=\"1\" class=\"dataframe\">\n",
       "  <thead>\n",
       "    <tr style=\"text-align: right;\">\n",
       "      <th></th>\n",
       "      <th>1</th>\n",
       "      <th>2</th>\n",
       "      <th>3</th>\n",
       "      <th>4</th>\n",
       "      <th>5</th>\n",
       "      <th>6</th>\n",
       "    </tr>\n",
       "  </thead>\n",
       "  <tbody>\n",
       "    <tr>\n",
       "      <th>Sales</th>\n",
       "      <td>150</td>\n",
       "      <td>165.0</td>\n",
       "      <td>181.5</td>\n",
       "      <td>199.65</td>\n",
       "      <td>219.615</td>\n",
       "      <td>241.5765</td>\n",
       "    </tr>\n",
       "    <tr>\n",
       "      <th>EBITDA</th>\n",
       "      <td>45.0</td>\n",
       "      <td>49.5</td>\n",
       "      <td>54.45</td>\n",
       "      <td>59.895</td>\n",
       "      <td>65.8845</td>\n",
       "      <td>72.47295</td>\n",
       "    </tr>\n",
       "    <tr>\n",
       "      <th>less: D&amp;A</th>\n",
       "      <td>-7.5</td>\n",
       "      <td>-8.25</td>\n",
       "      <td>-9.075</td>\n",
       "      <td>-9.9825</td>\n",
       "      <td>-10.98075</td>\n",
       "      <td>-12.078825</td>\n",
       "    </tr>\n",
       "    <tr>\n",
       "      <th>EBIT</th>\n",
       "      <td>NaN</td>\n",
       "      <td>NaN</td>\n",
       "      <td>NaN</td>\n",
       "      <td>NaN</td>\n",
       "      <td>NaN</td>\n",
       "      <td>NaN</td>\n",
       "    </tr>\n",
       "    <tr>\n",
       "      <th>less: Interest</th>\n",
       "      <td>NaN</td>\n",
       "      <td>NaN</td>\n",
       "      <td>NaN</td>\n",
       "      <td>NaN</td>\n",
       "      <td>NaN</td>\n",
       "      <td>NaN</td>\n",
       "    </tr>\n",
       "    <tr>\n",
       "      <th>Pre-Tax Income</th>\n",
       "      <td>NaN</td>\n",
       "      <td>NaN</td>\n",
       "      <td>NaN</td>\n",
       "      <td>NaN</td>\n",
       "      <td>NaN</td>\n",
       "      <td>NaN</td>\n",
       "    </tr>\n",
       "    <tr>\n",
       "      <th>less: Taxes</th>\n",
       "      <td>NaN</td>\n",
       "      <td>NaN</td>\n",
       "      <td>NaN</td>\n",
       "      <td>NaN</td>\n",
       "      <td>NaN</td>\n",
       "      <td>NaN</td>\n",
       "    </tr>\n",
       "    <tr>\n",
       "      <th>Net Income</th>\n",
       "      <td>NaN</td>\n",
       "      <td>NaN</td>\n",
       "      <td>NaN</td>\n",
       "      <td>NaN</td>\n",
       "      <td>NaN</td>\n",
       "      <td>NaN</td>\n",
       "    </tr>\n",
       "  </tbody>\n",
       "</table>\n",
       "</div>"
      ],
      "text/plain": [
       "                   1      2      3       4         5          6\n",
       "Sales            150  165.0  181.5  199.65   219.615   241.5765\n",
       "EBITDA          45.0   49.5  54.45  59.895   65.8845   72.47295\n",
       "less: D&A       -7.5  -8.25 -9.075 -9.9825 -10.98075 -12.078825\n",
       "EBIT             NaN    NaN    NaN     NaN       NaN        NaN\n",
       "less: Interest   NaN    NaN    NaN     NaN       NaN        NaN\n",
       "Pre-Tax Income   NaN    NaN    NaN     NaN       NaN        NaN\n",
       "less: Taxes      NaN    NaN    NaN     NaN       NaN        NaN\n",
       "Net Income       NaN    NaN    NaN     NaN       NaN        NaN"
      ]
     },
     "execution_count": 89,
     "metadata": {},
     "output_type": "execute_result"
    }
   ],
   "source": [
    "# Substract D&A to get EBIT\n",
    "IS.loc['less: D&A'] = IS_assumptions['Depre % of Sales'] * -IS.loc['Sales']\n",
    "IS"
   ]
  },
  {
   "cell_type": "code",
   "execution_count": 90,
   "id": "a6ee9fa9-0527-487a-80fd-4e683772d951",
   "metadata": {},
   "outputs": [
    {
     "data": {
      "application/com.datacamp.data-table.v1+json": {
       "is_truncated": false,
       "table": {
        "data": [
         {
          "1": 150,
          "2": 165,
          "3": 181.5,
          "4": 199.65,
          "5": 219.615,
          "6": 241.5765,
          "index": "Sales"
         },
         {
          "1": 45,
          "2": 49.5,
          "3": 54.45,
          "4": 59.895,
          "5": 65.8845,
          "6": 72.47295,
          "index": "EBITDA"
         },
         {
          "1": -7.5,
          "2": -8.25,
          "3": -9.075,
          "4": -9.9825,
          "5": -10.98075,
          "6": -12.078825,
          "index": "less: D&A"
         },
         {
          "1": 37.5,
          "2": 41.25,
          "3": 45.375,
          "4": 49.9125,
          "5": 54.90375,
          "6": 60.394125,
          "index": "EBIT"
         },
         {
          "1": null,
          "2": null,
          "3": null,
          "4": null,
          "5": null,
          "6": null,
          "index": "less: Interest"
         },
         {
          "1": null,
          "2": null,
          "3": null,
          "4": null,
          "5": null,
          "6": null,
          "index": "Pre-Tax Income"
         },
         {
          "1": null,
          "2": null,
          "3": null,
          "4": null,
          "5": null,
          "6": null,
          "index": "less: Taxes"
         },
         {
          "1": null,
          "2": null,
          "3": null,
          "4": null,
          "5": null,
          "6": null,
          "index": "Net Income"
         }
        ],
        "schema": {
         "fields": [
          {
           "name": "index",
           "type": "string"
          },
          {
           "name": 1,
           "type": "string"
          },
          {
           "name": 2,
           "type": "string"
          },
          {
           "name": 3,
           "type": "string"
          },
          {
           "name": 4,
           "type": "string"
          },
          {
           "name": 5,
           "type": "string"
          },
          {
           "name": 6,
           "type": "string"
          }
         ],
         "pandas_version": "0.20.0",
         "primaryKey": [
          "index"
         ]
        }
       },
       "total_rows": 8
      },
      "text/html": [
       "<div>\n",
       "<style scoped>\n",
       "    .dataframe tbody tr th:only-of-type {\n",
       "        vertical-align: middle;\n",
       "    }\n",
       "\n",
       "    .dataframe tbody tr th {\n",
       "        vertical-align: top;\n",
       "    }\n",
       "\n",
       "    .dataframe thead th {\n",
       "        text-align: right;\n",
       "    }\n",
       "</style>\n",
       "<table border=\"1\" class=\"dataframe\">\n",
       "  <thead>\n",
       "    <tr style=\"text-align: right;\">\n",
       "      <th></th>\n",
       "      <th>1</th>\n",
       "      <th>2</th>\n",
       "      <th>3</th>\n",
       "      <th>4</th>\n",
       "      <th>5</th>\n",
       "      <th>6</th>\n",
       "    </tr>\n",
       "  </thead>\n",
       "  <tbody>\n",
       "    <tr>\n",
       "      <th>Sales</th>\n",
       "      <td>150</td>\n",
       "      <td>165.0</td>\n",
       "      <td>181.5</td>\n",
       "      <td>199.65</td>\n",
       "      <td>219.615</td>\n",
       "      <td>241.5765</td>\n",
       "    </tr>\n",
       "    <tr>\n",
       "      <th>EBITDA</th>\n",
       "      <td>45.0</td>\n",
       "      <td>49.5</td>\n",
       "      <td>54.45</td>\n",
       "      <td>59.895</td>\n",
       "      <td>65.8845</td>\n",
       "      <td>72.47295</td>\n",
       "    </tr>\n",
       "    <tr>\n",
       "      <th>less: D&amp;A</th>\n",
       "      <td>-7.5</td>\n",
       "      <td>-8.25</td>\n",
       "      <td>-9.075</td>\n",
       "      <td>-9.9825</td>\n",
       "      <td>-10.98075</td>\n",
       "      <td>-12.078825</td>\n",
       "    </tr>\n",
       "    <tr>\n",
       "      <th>EBIT</th>\n",
       "      <td>37.5</td>\n",
       "      <td>41.25</td>\n",
       "      <td>45.375</td>\n",
       "      <td>49.9125</td>\n",
       "      <td>54.90375</td>\n",
       "      <td>60.394125</td>\n",
       "    </tr>\n",
       "    <tr>\n",
       "      <th>less: Interest</th>\n",
       "      <td>NaN</td>\n",
       "      <td>NaN</td>\n",
       "      <td>NaN</td>\n",
       "      <td>NaN</td>\n",
       "      <td>NaN</td>\n",
       "      <td>NaN</td>\n",
       "    </tr>\n",
       "    <tr>\n",
       "      <th>Pre-Tax Income</th>\n",
       "      <td>NaN</td>\n",
       "      <td>NaN</td>\n",
       "      <td>NaN</td>\n",
       "      <td>NaN</td>\n",
       "      <td>NaN</td>\n",
       "      <td>NaN</td>\n",
       "    </tr>\n",
       "    <tr>\n",
       "      <th>less: Taxes</th>\n",
       "      <td>NaN</td>\n",
       "      <td>NaN</td>\n",
       "      <td>NaN</td>\n",
       "      <td>NaN</td>\n",
       "      <td>NaN</td>\n",
       "      <td>NaN</td>\n",
       "    </tr>\n",
       "    <tr>\n",
       "      <th>Net Income</th>\n",
       "      <td>NaN</td>\n",
       "      <td>NaN</td>\n",
       "      <td>NaN</td>\n",
       "      <td>NaN</td>\n",
       "      <td>NaN</td>\n",
       "      <td>NaN</td>\n",
       "    </tr>\n",
       "  </tbody>\n",
       "</table>\n",
       "</div>"
      ],
      "text/plain": [
       "                   1      2       3        4         5          6\n",
       "Sales            150  165.0   181.5   199.65   219.615   241.5765\n",
       "EBITDA          45.0   49.5   54.45   59.895   65.8845   72.47295\n",
       "less: D&A       -7.5  -8.25  -9.075  -9.9825 -10.98075 -12.078825\n",
       "EBIT            37.5  41.25  45.375  49.9125  54.90375  60.394125\n",
       "less: Interest   NaN    NaN     NaN      NaN       NaN        NaN\n",
       "Pre-Tax Income   NaN    NaN     NaN      NaN       NaN        NaN\n",
       "less: Taxes      NaN    NaN     NaN      NaN       NaN        NaN\n",
       "Net Income       NaN    NaN     NaN      NaN       NaN        NaN"
      ]
     },
     "execution_count": 90,
     "metadata": {},
     "output_type": "execute_result"
    }
   ],
   "source": [
    "# Derived EBIT for each year\n",
    "IS.loc['EBIT'] = IS.loc['EBITDA'] + IS.loc['less: D&A']\n",
    "IS"
   ]
  },
  {
   "cell_type": "code",
   "execution_count": 91,
   "id": "bf22fcbf-c9a8-4159-936d-0d259b78b773",
   "metadata": {},
   "outputs": [
    {
     "data": {
      "text/plain": [
       "{'sr_bank_debt_interest': 0.05,\n",
       " 'sellers_notes_interest': 0.08,\n",
       " 'shareholders_loan_interest': 0.12,\n",
       " 'senior_bank_debt': 6.75,\n",
       " 'sellers_notes': 3.6,\n",
       " 'shareholders_loan': 5.3999999999999995}"
      ]
     },
     "execution_count": 91,
     "metadata": {},
     "output_type": "execute_result"
    }
   ],
   "source": [
    "# Calculate the debt balances for interest\n",
    "interest = {\n",
    "    'sr_bank_debt_interest':.05,\n",
    "    'sellers_notes_interest':.08,\n",
    "    'shareholders_loan_interest':.12,\n",
    "}\n",
    "interest['senior_bank_debt'] = sources_sche['sen_bank_debt'] * interest['sr_bank_debt_interest']\n",
    "interest['sellers_notes'] = sources_sche['sellers_notes'] * interest['sellers_notes_interest']\n",
    "interest['shareholders_loan'] = equity_split['shareholder_loan'] * interest['shareholders_loan_interest']\n",
    "interest"
   ]
  },
  {
   "cell_type": "code",
   "execution_count": 92,
   "id": "7f72b920-dd33-4f4f-94ca-1f4e07e5522a",
   "metadata": {},
   "outputs": [
    {
     "data": {
      "application/com.datacamp.data-table.v1+json": {
       "is_truncated": false,
       "table": {
        "data": [
         {
          "1": 150,
          "2": 165,
          "3": 181.5,
          "4": 199.65,
          "5": 219.615,
          "6": 241.5765,
          "index": "Sales"
         },
         {
          "1": 45,
          "2": 49.5,
          "3": 54.45,
          "4": 59.895,
          "5": 65.8845,
          "6": 72.47295,
          "index": "EBITDA"
         },
         {
          "1": -7.5,
          "2": -8.25,
          "3": -9.075,
          "4": -9.9825,
          "5": -10.98075,
          "6": -12.078825,
          "index": "less: D&A"
         },
         {
          "1": 37.5,
          "2": 41.25,
          "3": 45.375,
          "4": 49.9125,
          "5": 54.90375,
          "6": 60.394125,
          "index": "EBIT"
         },
         {
          "1": -15.75,
          "2": -15.75,
          "3": -15.75,
          "4": -15.75,
          "5": -15.75,
          "6": -15.75,
          "index": "less: Interest"
         },
         {
          "1": null,
          "2": null,
          "3": null,
          "4": null,
          "5": null,
          "6": null,
          "index": "Pre-Tax Income"
         },
         {
          "1": null,
          "2": null,
          "3": null,
          "4": null,
          "5": null,
          "6": null,
          "index": "less: Taxes"
         },
         {
          "1": null,
          "2": null,
          "3": null,
          "4": null,
          "5": null,
          "6": null,
          "index": "Net Income"
         }
        ],
        "schema": {
         "fields": [
          {
           "name": "index",
           "type": "string"
          },
          {
           "name": 1,
           "type": "string"
          },
          {
           "name": 2,
           "type": "string"
          },
          {
           "name": 3,
           "type": "string"
          },
          {
           "name": 4,
           "type": "string"
          },
          {
           "name": 5,
           "type": "string"
          },
          {
           "name": 6,
           "type": "string"
          }
         ],
         "pandas_version": "0.20.0",
         "primaryKey": [
          "index"
         ]
        }
       },
       "total_rows": 8
      },
      "text/html": [
       "<div>\n",
       "<style scoped>\n",
       "    .dataframe tbody tr th:only-of-type {\n",
       "        vertical-align: middle;\n",
       "    }\n",
       "\n",
       "    .dataframe tbody tr th {\n",
       "        vertical-align: top;\n",
       "    }\n",
       "\n",
       "    .dataframe thead th {\n",
       "        text-align: right;\n",
       "    }\n",
       "</style>\n",
       "<table border=\"1\" class=\"dataframe\">\n",
       "  <thead>\n",
       "    <tr style=\"text-align: right;\">\n",
       "      <th></th>\n",
       "      <th>1</th>\n",
       "      <th>2</th>\n",
       "      <th>3</th>\n",
       "      <th>4</th>\n",
       "      <th>5</th>\n",
       "      <th>6</th>\n",
       "    </tr>\n",
       "  </thead>\n",
       "  <tbody>\n",
       "    <tr>\n",
       "      <th>Sales</th>\n",
       "      <td>150</td>\n",
       "      <td>165.0</td>\n",
       "      <td>181.5</td>\n",
       "      <td>199.65</td>\n",
       "      <td>219.615</td>\n",
       "      <td>241.5765</td>\n",
       "    </tr>\n",
       "    <tr>\n",
       "      <th>EBITDA</th>\n",
       "      <td>45.0</td>\n",
       "      <td>49.5</td>\n",
       "      <td>54.45</td>\n",
       "      <td>59.895</td>\n",
       "      <td>65.8845</td>\n",
       "      <td>72.47295</td>\n",
       "    </tr>\n",
       "    <tr>\n",
       "      <th>less: D&amp;A</th>\n",
       "      <td>-7.5</td>\n",
       "      <td>-8.25</td>\n",
       "      <td>-9.075</td>\n",
       "      <td>-9.9825</td>\n",
       "      <td>-10.98075</td>\n",
       "      <td>-12.078825</td>\n",
       "    </tr>\n",
       "    <tr>\n",
       "      <th>EBIT</th>\n",
       "      <td>37.5</td>\n",
       "      <td>41.25</td>\n",
       "      <td>45.375</td>\n",
       "      <td>49.9125</td>\n",
       "      <td>54.90375</td>\n",
       "      <td>60.394125</td>\n",
       "    </tr>\n",
       "    <tr>\n",
       "      <th>less: Interest</th>\n",
       "      <td>-15.75</td>\n",
       "      <td>-15.75</td>\n",
       "      <td>-15.75</td>\n",
       "      <td>-15.75</td>\n",
       "      <td>-15.75</td>\n",
       "      <td>-15.75</td>\n",
       "    </tr>\n",
       "    <tr>\n",
       "      <th>Pre-Tax Income</th>\n",
       "      <td>NaN</td>\n",
       "      <td>NaN</td>\n",
       "      <td>NaN</td>\n",
       "      <td>NaN</td>\n",
       "      <td>NaN</td>\n",
       "      <td>NaN</td>\n",
       "    </tr>\n",
       "    <tr>\n",
       "      <th>less: Taxes</th>\n",
       "      <td>NaN</td>\n",
       "      <td>NaN</td>\n",
       "      <td>NaN</td>\n",
       "      <td>NaN</td>\n",
       "      <td>NaN</td>\n",
       "      <td>NaN</td>\n",
       "    </tr>\n",
       "    <tr>\n",
       "      <th>Net Income</th>\n",
       "      <td>NaN</td>\n",
       "      <td>NaN</td>\n",
       "      <td>NaN</td>\n",
       "      <td>NaN</td>\n",
       "      <td>NaN</td>\n",
       "      <td>NaN</td>\n",
       "    </tr>\n",
       "  </tbody>\n",
       "</table>\n",
       "</div>"
      ],
      "text/plain": [
       "                    1      2       3        4         5          6\n",
       "Sales             150  165.0   181.5   199.65   219.615   241.5765\n",
       "EBITDA           45.0   49.5   54.45   59.895   65.8845   72.47295\n",
       "less: D&A        -7.5  -8.25  -9.075  -9.9825 -10.98075 -12.078825\n",
       "EBIT             37.5  41.25  45.375  49.9125  54.90375  60.394125\n",
       "less: Interest -15.75 -15.75  -15.75   -15.75    -15.75     -15.75\n",
       "Pre-Tax Income    NaN    NaN     NaN      NaN       NaN        NaN\n",
       "less: Taxes       NaN    NaN     NaN      NaN       NaN        NaN\n",
       "Net Income        NaN    NaN     NaN      NaN       NaN        NaN"
      ]
     },
     "execution_count": 92,
     "metadata": {},
     "output_type": "execute_result"
    }
   ],
   "source": [
    "# Substract interest to get pre-tax income\n",
    "IS.loc['less: Interest']= -(interest['senior_bank_debt'] + interest['sellers_notes'] + interest['shareholders_loan'])\n",
    "IS"
   ]
  },
  {
   "cell_type": "code",
   "execution_count": 93,
   "id": "46bb6b55-7f9c-439d-aaea-9201dac974a9",
   "metadata": {},
   "outputs": [
    {
     "data": {
      "application/com.datacamp.data-table.v1+json": {
       "is_truncated": false,
       "table": {
        "data": [
         {
          "1": 150,
          "2": 165,
          "3": 181.5,
          "4": 199.65,
          "5": 219.615,
          "6": 241.5765,
          "index": "Sales"
         },
         {
          "1": 45,
          "2": 49.5,
          "3": 54.45,
          "4": 59.895,
          "5": 65.8845,
          "6": 72.47295,
          "index": "EBITDA"
         },
         {
          "1": -7.5,
          "2": -8.25,
          "3": -9.075,
          "4": -9.9825,
          "5": -10.98075,
          "6": -12.078825,
          "index": "less: D&A"
         },
         {
          "1": 37.5,
          "2": 41.25,
          "3": 45.375,
          "4": 49.9125,
          "5": 54.90375,
          "6": 60.394125,
          "index": "EBIT"
         },
         {
          "1": -15.75,
          "2": -15.75,
          "3": -15.75,
          "4": -15.75,
          "5": -15.75,
          "6": -15.75,
          "index": "less: Interest"
         },
         {
          "1": 21.75,
          "2": 25.5,
          "3": 29.625,
          "4": 34.1625,
          "5": 39.15375,
          "6": 44.644125,
          "index": "Pre-Tax Income"
         },
         {
          "1": null,
          "2": null,
          "3": null,
          "4": null,
          "5": null,
          "6": null,
          "index": "less: Taxes"
         },
         {
          "1": null,
          "2": null,
          "3": null,
          "4": null,
          "5": null,
          "6": null,
          "index": "Net Income"
         }
        ],
        "schema": {
         "fields": [
          {
           "name": "index",
           "type": "string"
          },
          {
           "name": 1,
           "type": "string"
          },
          {
           "name": 2,
           "type": "string"
          },
          {
           "name": 3,
           "type": "string"
          },
          {
           "name": 4,
           "type": "string"
          },
          {
           "name": 5,
           "type": "string"
          },
          {
           "name": 6,
           "type": "string"
          }
         ],
         "pandas_version": "0.20.0",
         "primaryKey": [
          "index"
         ]
        }
       },
       "total_rows": 8
      },
      "text/html": [
       "<div>\n",
       "<style scoped>\n",
       "    .dataframe tbody tr th:only-of-type {\n",
       "        vertical-align: middle;\n",
       "    }\n",
       "\n",
       "    .dataframe tbody tr th {\n",
       "        vertical-align: top;\n",
       "    }\n",
       "\n",
       "    .dataframe thead th {\n",
       "        text-align: right;\n",
       "    }\n",
       "</style>\n",
       "<table border=\"1\" class=\"dataframe\">\n",
       "  <thead>\n",
       "    <tr style=\"text-align: right;\">\n",
       "      <th></th>\n",
       "      <th>1</th>\n",
       "      <th>2</th>\n",
       "      <th>3</th>\n",
       "      <th>4</th>\n",
       "      <th>5</th>\n",
       "      <th>6</th>\n",
       "    </tr>\n",
       "  </thead>\n",
       "  <tbody>\n",
       "    <tr>\n",
       "      <th>Sales</th>\n",
       "      <td>150</td>\n",
       "      <td>165.0</td>\n",
       "      <td>181.5</td>\n",
       "      <td>199.65</td>\n",
       "      <td>219.615</td>\n",
       "      <td>241.5765</td>\n",
       "    </tr>\n",
       "    <tr>\n",
       "      <th>EBITDA</th>\n",
       "      <td>45.0</td>\n",
       "      <td>49.5</td>\n",
       "      <td>54.45</td>\n",
       "      <td>59.895</td>\n",
       "      <td>65.8845</td>\n",
       "      <td>72.47295</td>\n",
       "    </tr>\n",
       "    <tr>\n",
       "      <th>less: D&amp;A</th>\n",
       "      <td>-7.5</td>\n",
       "      <td>-8.25</td>\n",
       "      <td>-9.075</td>\n",
       "      <td>-9.9825</td>\n",
       "      <td>-10.98075</td>\n",
       "      <td>-12.078825</td>\n",
       "    </tr>\n",
       "    <tr>\n",
       "      <th>EBIT</th>\n",
       "      <td>37.5</td>\n",
       "      <td>41.25</td>\n",
       "      <td>45.375</td>\n",
       "      <td>49.9125</td>\n",
       "      <td>54.90375</td>\n",
       "      <td>60.394125</td>\n",
       "    </tr>\n",
       "    <tr>\n",
       "      <th>less: Interest</th>\n",
       "      <td>-15.75</td>\n",
       "      <td>-15.75</td>\n",
       "      <td>-15.75</td>\n",
       "      <td>-15.75</td>\n",
       "      <td>-15.75</td>\n",
       "      <td>-15.75</td>\n",
       "    </tr>\n",
       "    <tr>\n",
       "      <th>Pre-Tax Income</th>\n",
       "      <td>21.75</td>\n",
       "      <td>25.5</td>\n",
       "      <td>29.625</td>\n",
       "      <td>34.1625</td>\n",
       "      <td>39.15375</td>\n",
       "      <td>44.644125</td>\n",
       "    </tr>\n",
       "    <tr>\n",
       "      <th>less: Taxes</th>\n",
       "      <td>NaN</td>\n",
       "      <td>NaN</td>\n",
       "      <td>NaN</td>\n",
       "      <td>NaN</td>\n",
       "      <td>NaN</td>\n",
       "      <td>NaN</td>\n",
       "    </tr>\n",
       "    <tr>\n",
       "      <th>Net Income</th>\n",
       "      <td>NaN</td>\n",
       "      <td>NaN</td>\n",
       "      <td>NaN</td>\n",
       "      <td>NaN</td>\n",
       "      <td>NaN</td>\n",
       "      <td>NaN</td>\n",
       "    </tr>\n",
       "  </tbody>\n",
       "</table>\n",
       "</div>"
      ],
      "text/plain": [
       "                    1      2       3        4         5          6\n",
       "Sales             150  165.0   181.5   199.65   219.615   241.5765\n",
       "EBITDA           45.0   49.5   54.45   59.895   65.8845   72.47295\n",
       "less: D&A        -7.5  -8.25  -9.075  -9.9825 -10.98075 -12.078825\n",
       "EBIT             37.5  41.25  45.375  49.9125  54.90375  60.394125\n",
       "less: Interest -15.75 -15.75  -15.75   -15.75    -15.75     -15.75\n",
       "Pre-Tax Income  21.75   25.5  29.625  34.1625  39.15375  44.644125\n",
       "less: Taxes       NaN    NaN     NaN      NaN       NaN        NaN\n",
       "Net Income        NaN    NaN     NaN      NaN       NaN        NaN"
      ]
     },
     "execution_count": 93,
     "metadata": {},
     "output_type": "execute_result"
    }
   ],
   "source": [
    "# Calculate the Pre-Tax Income\n",
    "IS.loc['Pre-Tax Income'] = IS.loc['EBIT'] + IS.loc['less: Interest']\n",
    "IS"
   ]
  },
  {
   "cell_type": "code",
   "execution_count": 94,
   "id": "814b15ce-9695-4aa0-a47b-a2a8b9539ff7",
   "metadata": {},
   "outputs": [
    {
     "data": {
      "application/com.datacamp.data-table.v1+json": {
       "is_truncated": false,
       "table": {
        "data": [
         {
          "1": 150,
          "2": 165,
          "3": 181.5,
          "4": 199.65,
          "5": 219.615,
          "6": 241.5765,
          "index": "Sales"
         },
         {
          "1": 45,
          "2": 49.5,
          "3": 54.45,
          "4": 59.895,
          "5": 65.8845,
          "6": 72.47295,
          "index": "EBITDA"
         },
         {
          "1": -7.5,
          "2": -8.25,
          "3": -9.075,
          "4": -9.9825,
          "5": -10.98075,
          "6": -12.078825,
          "index": "less: D&A"
         },
         {
          "1": 37.5,
          "2": 41.25,
          "3": 45.375,
          "4": 49.9125,
          "5": 54.90375,
          "6": 60.394125,
          "index": "EBIT"
         },
         {
          "1": -15.75,
          "2": -15.75,
          "3": -15.75,
          "4": -15.75,
          "5": -15.75,
          "6": -15.75,
          "index": "less: Interest"
         },
         {
          "1": 21.75,
          "2": 25.5,
          "3": 29.625,
          "4": 34.1625,
          "5": 39.15375,
          "6": 44.644125,
          "index": "Pre-Tax Income"
         },
         {
          "1": -6.525,
          "2": -7.65,
          "3": -8.8875,
          "4": -10.24875,
          "5": -11.746125,
          "6": -13.3932375,
          "index": "less: Taxes"
         },
         {
          "1": null,
          "2": null,
          "3": null,
          "4": null,
          "5": null,
          "6": null,
          "index": "Net Income"
         }
        ],
        "schema": {
         "fields": [
          {
           "name": "index",
           "type": "string"
          },
          {
           "name": 1,
           "type": "string"
          },
          {
           "name": 2,
           "type": "string"
          },
          {
           "name": 3,
           "type": "string"
          },
          {
           "name": 4,
           "type": "string"
          },
          {
           "name": 5,
           "type": "string"
          },
          {
           "name": 6,
           "type": "string"
          }
         ],
         "pandas_version": "0.20.0",
         "primaryKey": [
          "index"
         ]
        }
       },
       "total_rows": 8
      },
      "text/html": [
       "<div>\n",
       "<style scoped>\n",
       "    .dataframe tbody tr th:only-of-type {\n",
       "        vertical-align: middle;\n",
       "    }\n",
       "\n",
       "    .dataframe tbody tr th {\n",
       "        vertical-align: top;\n",
       "    }\n",
       "\n",
       "    .dataframe thead th {\n",
       "        text-align: right;\n",
       "    }\n",
       "</style>\n",
       "<table border=\"1\" class=\"dataframe\">\n",
       "  <thead>\n",
       "    <tr style=\"text-align: right;\">\n",
       "      <th></th>\n",
       "      <th>1</th>\n",
       "      <th>2</th>\n",
       "      <th>3</th>\n",
       "      <th>4</th>\n",
       "      <th>5</th>\n",
       "      <th>6</th>\n",
       "    </tr>\n",
       "  </thead>\n",
       "  <tbody>\n",
       "    <tr>\n",
       "      <th>Sales</th>\n",
       "      <td>150</td>\n",
       "      <td>165.0</td>\n",
       "      <td>181.5</td>\n",
       "      <td>199.65</td>\n",
       "      <td>219.615</td>\n",
       "      <td>241.5765</td>\n",
       "    </tr>\n",
       "    <tr>\n",
       "      <th>EBITDA</th>\n",
       "      <td>45.0</td>\n",
       "      <td>49.5</td>\n",
       "      <td>54.45</td>\n",
       "      <td>59.895</td>\n",
       "      <td>65.8845</td>\n",
       "      <td>72.47295</td>\n",
       "    </tr>\n",
       "    <tr>\n",
       "      <th>less: D&amp;A</th>\n",
       "      <td>-7.5</td>\n",
       "      <td>-8.25</td>\n",
       "      <td>-9.075</td>\n",
       "      <td>-9.9825</td>\n",
       "      <td>-10.98075</td>\n",
       "      <td>-12.078825</td>\n",
       "    </tr>\n",
       "    <tr>\n",
       "      <th>EBIT</th>\n",
       "      <td>37.5</td>\n",
       "      <td>41.25</td>\n",
       "      <td>45.375</td>\n",
       "      <td>49.9125</td>\n",
       "      <td>54.90375</td>\n",
       "      <td>60.394125</td>\n",
       "    </tr>\n",
       "    <tr>\n",
       "      <th>less: Interest</th>\n",
       "      <td>-15.75</td>\n",
       "      <td>-15.75</td>\n",
       "      <td>-15.75</td>\n",
       "      <td>-15.75</td>\n",
       "      <td>-15.75</td>\n",
       "      <td>-15.75</td>\n",
       "    </tr>\n",
       "    <tr>\n",
       "      <th>Pre-Tax Income</th>\n",
       "      <td>21.75</td>\n",
       "      <td>25.5</td>\n",
       "      <td>29.625</td>\n",
       "      <td>34.1625</td>\n",
       "      <td>39.15375</td>\n",
       "      <td>44.644125</td>\n",
       "    </tr>\n",
       "    <tr>\n",
       "      <th>less: Taxes</th>\n",
       "      <td>-6.525</td>\n",
       "      <td>-7.65</td>\n",
       "      <td>-8.8875</td>\n",
       "      <td>-10.24875</td>\n",
       "      <td>-11.746125</td>\n",
       "      <td>-13.393238</td>\n",
       "    </tr>\n",
       "    <tr>\n",
       "      <th>Net Income</th>\n",
       "      <td>NaN</td>\n",
       "      <td>NaN</td>\n",
       "      <td>NaN</td>\n",
       "      <td>NaN</td>\n",
       "      <td>NaN</td>\n",
       "      <td>NaN</td>\n",
       "    </tr>\n",
       "  </tbody>\n",
       "</table>\n",
       "</div>"
      ],
      "text/plain": [
       "                    1      2       3         4          5          6\n",
       "Sales             150  165.0   181.5    199.65    219.615   241.5765\n",
       "EBITDA           45.0   49.5   54.45    59.895    65.8845   72.47295\n",
       "less: D&A        -7.5  -8.25  -9.075   -9.9825  -10.98075 -12.078825\n",
       "EBIT             37.5  41.25  45.375   49.9125   54.90375  60.394125\n",
       "less: Interest -15.75 -15.75  -15.75    -15.75     -15.75     -15.75\n",
       "Pre-Tax Income  21.75   25.5  29.625   34.1625   39.15375  44.644125\n",
       "less: Taxes    -6.525  -7.65 -8.8875 -10.24875 -11.746125 -13.393238\n",
       "Net Income        NaN    NaN     NaN       NaN        NaN        NaN"
      ]
     },
     "execution_count": 94,
     "metadata": {},
     "output_type": "execute_result"
    }
   ],
   "source": [
    "# Calculate the tax rate \n",
    "IS.loc['less: Taxes'] = IS.loc['Pre-Tax Income'] * -IS_assumptions['tax_rate']\n",
    "IS"
   ]
  },
  {
   "cell_type": "code",
   "execution_count": 95,
   "id": "bf2917f1-dc00-45cb-a061-17107f6e0d89",
   "metadata": {},
   "outputs": [
    {
     "data": {
      "application/com.datacamp.data-table.v1+json": {
       "is_truncated": false,
       "table": {
        "data": [
         {
          "1": 150,
          "2": 165,
          "3": 181.5,
          "4": 199.65,
          "5": 219.615,
          "6": 241.5765,
          "index": "Sales"
         },
         {
          "1": 45,
          "2": 49.5,
          "3": 54.45,
          "4": 59.895,
          "5": 65.8845,
          "6": 72.47295,
          "index": "EBITDA"
         },
         {
          "1": -7.5,
          "2": -8.25,
          "3": -9.075,
          "4": -9.9825,
          "5": -10.98075,
          "6": -12.078825,
          "index": "less: D&A"
         },
         {
          "1": 37.5,
          "2": 41.25,
          "3": 45.375,
          "4": 49.9125,
          "5": 54.90375,
          "6": 60.394125,
          "index": "EBIT"
         },
         {
          "1": -15.75,
          "2": -15.75,
          "3": -15.75,
          "4": -15.75,
          "5": -15.75,
          "6": -15.75,
          "index": "less: Interest"
         },
         {
          "1": 21.75,
          "2": 25.5,
          "3": 29.625,
          "4": 34.1625,
          "5": 39.15375,
          "6": 44.644125,
          "index": "Pre-Tax Income"
         },
         {
          "1": -6.525,
          "2": -7.65,
          "3": -8.8875,
          "4": -10.24875,
          "5": -11.746125,
          "6": -13.3932375,
          "index": "less: Taxes"
         },
         {
          "1": 15.225,
          "2": 17.85,
          "3": 20.7375,
          "4": 23.91375,
          "5": 27.407625,
          "6": 31.2508875,
          "index": "Net Income"
         }
        ],
        "schema": {
         "fields": [
          {
           "name": "index",
           "type": "string"
          },
          {
           "name": 1,
           "type": "string"
          },
          {
           "name": 2,
           "type": "string"
          },
          {
           "name": 3,
           "type": "string"
          },
          {
           "name": 4,
           "type": "string"
          },
          {
           "name": 5,
           "type": "string"
          },
          {
           "name": 6,
           "type": "string"
          }
         ],
         "pandas_version": "0.20.0",
         "primaryKey": [
          "index"
         ]
        }
       },
       "total_rows": 8
      },
      "text/html": [
       "<div>\n",
       "<style scoped>\n",
       "    .dataframe tbody tr th:only-of-type {\n",
       "        vertical-align: middle;\n",
       "    }\n",
       "\n",
       "    .dataframe tbody tr th {\n",
       "        vertical-align: top;\n",
       "    }\n",
       "\n",
       "    .dataframe thead th {\n",
       "        text-align: right;\n",
       "    }\n",
       "</style>\n",
       "<table border=\"1\" class=\"dataframe\">\n",
       "  <thead>\n",
       "    <tr style=\"text-align: right;\">\n",
       "      <th></th>\n",
       "      <th>1</th>\n",
       "      <th>2</th>\n",
       "      <th>3</th>\n",
       "      <th>4</th>\n",
       "      <th>5</th>\n",
       "      <th>6</th>\n",
       "    </tr>\n",
       "  </thead>\n",
       "  <tbody>\n",
       "    <tr>\n",
       "      <th>Sales</th>\n",
       "      <td>150</td>\n",
       "      <td>165.0</td>\n",
       "      <td>181.5</td>\n",
       "      <td>199.65</td>\n",
       "      <td>219.615</td>\n",
       "      <td>241.5765</td>\n",
       "    </tr>\n",
       "    <tr>\n",
       "      <th>EBITDA</th>\n",
       "      <td>45.0</td>\n",
       "      <td>49.5</td>\n",
       "      <td>54.45</td>\n",
       "      <td>59.895</td>\n",
       "      <td>65.8845</td>\n",
       "      <td>72.47295</td>\n",
       "    </tr>\n",
       "    <tr>\n",
       "      <th>less: D&amp;A</th>\n",
       "      <td>-7.5</td>\n",
       "      <td>-8.25</td>\n",
       "      <td>-9.075</td>\n",
       "      <td>-9.9825</td>\n",
       "      <td>-10.98075</td>\n",
       "      <td>-12.078825</td>\n",
       "    </tr>\n",
       "    <tr>\n",
       "      <th>EBIT</th>\n",
       "      <td>37.5</td>\n",
       "      <td>41.25</td>\n",
       "      <td>45.375</td>\n",
       "      <td>49.9125</td>\n",
       "      <td>54.90375</td>\n",
       "      <td>60.394125</td>\n",
       "    </tr>\n",
       "    <tr>\n",
       "      <th>less: Interest</th>\n",
       "      <td>-15.75</td>\n",
       "      <td>-15.75</td>\n",
       "      <td>-15.75</td>\n",
       "      <td>-15.75</td>\n",
       "      <td>-15.75</td>\n",
       "      <td>-15.75</td>\n",
       "    </tr>\n",
       "    <tr>\n",
       "      <th>Pre-Tax Income</th>\n",
       "      <td>21.75</td>\n",
       "      <td>25.5</td>\n",
       "      <td>29.625</td>\n",
       "      <td>34.1625</td>\n",
       "      <td>39.15375</td>\n",
       "      <td>44.644125</td>\n",
       "    </tr>\n",
       "    <tr>\n",
       "      <th>less: Taxes</th>\n",
       "      <td>-6.525</td>\n",
       "      <td>-7.65</td>\n",
       "      <td>-8.8875</td>\n",
       "      <td>-10.24875</td>\n",
       "      <td>-11.746125</td>\n",
       "      <td>-13.393238</td>\n",
       "    </tr>\n",
       "    <tr>\n",
       "      <th>Net Income</th>\n",
       "      <td>15.225</td>\n",
       "      <td>17.85</td>\n",
       "      <td>20.7375</td>\n",
       "      <td>23.91375</td>\n",
       "      <td>27.407625</td>\n",
       "      <td>31.250888</td>\n",
       "    </tr>\n",
       "  </tbody>\n",
       "</table>\n",
       "</div>"
      ],
      "text/plain": [
       "                     1      2        3         4          5          6\n",
       "Sales              150  165.0    181.5    199.65    219.615   241.5765\n",
       "EBITDA            45.0   49.5    54.45    59.895    65.8845   72.47295\n",
       "less: D&A         -7.5  -8.25   -9.075   -9.9825  -10.98075 -12.078825\n",
       "EBIT              37.5  41.25   45.375   49.9125   54.90375  60.394125\n",
       "less: Interest  -15.75 -15.75   -15.75    -15.75     -15.75     -15.75\n",
       "Pre-Tax Income   21.75   25.5   29.625   34.1625   39.15375  44.644125\n",
       "less: Taxes     -6.525  -7.65  -8.8875 -10.24875 -11.746125 -13.393238\n",
       "Net Income      15.225  17.85  20.7375  23.91375  27.407625  31.250888"
      ]
     },
     "execution_count": 95,
     "metadata": {},
     "output_type": "execute_result"
    }
   ],
   "source": [
    "# Calculate the NI\n",
    "IS.loc['Net Income'] = IS.loc['Pre-Tax Income'] + IS.loc['less: Taxes']\n",
    "IS"
   ]
  },
  {
   "cell_type": "code",
   "execution_count": 105,
   "id": "3e15c8fc-3e15-499d-ba79-ed26d75cf5bb",
   "metadata": {},
   "outputs": [
    {
     "data": {
      "application/com.datacamp.data-table.v1+json": {
       "is_truncated": false,
       "table": {
        "data": [
         {
          "Year 1": 150,
          "Year 2": 165,
          "Year 3": 181.5,
          "Year 4": 199.65,
          "Year 5": 219.62,
          "Year 6": 241.58,
          "index": "Sales"
         },
         {
          "Year 1": 45,
          "Year 2": 49.5,
          "Year 3": 54.45,
          "Year 4": 59.9,
          "Year 5": 65.88,
          "Year 6": 72.47,
          "index": "EBITDA"
         },
         {
          "Year 1": -7.5,
          "Year 2": -8.25,
          "Year 3": -9.08,
          "Year 4": -9.98,
          "Year 5": -10.98,
          "Year 6": -12.08,
          "index": "less: D&A"
         },
         {
          "Year 1": 37.5,
          "Year 2": 41.25,
          "Year 3": 45.38,
          "Year 4": 49.91,
          "Year 5": 54.9,
          "Year 6": 60.39,
          "index": "EBIT"
         },
         {
          "Year 1": -15.75,
          "Year 2": -15.75,
          "Year 3": -15.75,
          "Year 4": -15.75,
          "Year 5": -15.75,
          "Year 6": -15.75,
          "index": "less: Interest"
         },
         {
          "Year 1": 21.75,
          "Year 2": 25.5,
          "Year 3": 29.63,
          "Year 4": 34.16,
          "Year 5": 39.15,
          "Year 6": 44.64,
          "index": "Pre-Tax Income"
         },
         {
          "Year 1": -6.525,
          "Year 2": -7.65,
          "Year 3": -8.89,
          "Year 4": -10.25,
          "Year 5": -11.75,
          "Year 6": -13.39,
          "index": "less: Taxes"
         },
         {
          "Year 1": 15.225,
          "Year 2": 17.85,
          "Year 3": 20.74,
          "Year 4": 23.91,
          "Year 5": 27.41,
          "Year 6": 31.25,
          "index": "Net Income"
         }
        ],
        "schema": {
         "fields": [
          {
           "name": "index",
           "type": "string"
          },
          {
           "name": "Year 1",
           "type": "string"
          },
          {
           "name": "Year 2",
           "type": "string"
          },
          {
           "name": "Year 3",
           "type": "number"
          },
          {
           "name": "Year 4",
           "type": "number"
          },
          {
           "name": "Year 5",
           "type": "number"
          },
          {
           "name": "Year 6",
           "type": "number"
          }
         ],
         "pandas_version": "0.20.0",
         "primaryKey": [
          "index"
         ]
        }
       },
       "total_rows": 8
      },
      "text/html": [
       "<div>\n",
       "<style scoped>\n",
       "    .dataframe tbody tr th:only-of-type {\n",
       "        vertical-align: middle;\n",
       "    }\n",
       "\n",
       "    .dataframe tbody tr th {\n",
       "        vertical-align: top;\n",
       "    }\n",
       "\n",
       "    .dataframe thead th {\n",
       "        text-align: right;\n",
       "    }\n",
       "</style>\n",
       "<table border=\"1\" class=\"dataframe\">\n",
       "  <thead>\n",
       "    <tr style=\"text-align: right;\">\n",
       "      <th></th>\n",
       "      <th>Year 1</th>\n",
       "      <th>Year 2</th>\n",
       "      <th>Year 3</th>\n",
       "      <th>Year 4</th>\n",
       "      <th>Year 5</th>\n",
       "      <th>Year 6</th>\n",
       "    </tr>\n",
       "  </thead>\n",
       "  <tbody>\n",
       "    <tr>\n",
       "      <th>Sales</th>\n",
       "      <td>150</td>\n",
       "      <td>165.0</td>\n",
       "      <td>181.50</td>\n",
       "      <td>199.65</td>\n",
       "      <td>219.62</td>\n",
       "      <td>241.58</td>\n",
       "    </tr>\n",
       "    <tr>\n",
       "      <th>EBITDA</th>\n",
       "      <td>45.0</td>\n",
       "      <td>49.5</td>\n",
       "      <td>54.45</td>\n",
       "      <td>59.90</td>\n",
       "      <td>65.88</td>\n",
       "      <td>72.47</td>\n",
       "    </tr>\n",
       "    <tr>\n",
       "      <th>less: D&amp;A</th>\n",
       "      <td>-7.5</td>\n",
       "      <td>-8.25</td>\n",
       "      <td>-9.08</td>\n",
       "      <td>-9.98</td>\n",
       "      <td>-10.98</td>\n",
       "      <td>-12.08</td>\n",
       "    </tr>\n",
       "    <tr>\n",
       "      <th>EBIT</th>\n",
       "      <td>37.5</td>\n",
       "      <td>41.25</td>\n",
       "      <td>45.38</td>\n",
       "      <td>49.91</td>\n",
       "      <td>54.90</td>\n",
       "      <td>60.39</td>\n",
       "    </tr>\n",
       "    <tr>\n",
       "      <th>less: Interest</th>\n",
       "      <td>-15.75</td>\n",
       "      <td>-15.75</td>\n",
       "      <td>-15.75</td>\n",
       "      <td>-15.75</td>\n",
       "      <td>-15.75</td>\n",
       "      <td>-15.75</td>\n",
       "    </tr>\n",
       "    <tr>\n",
       "      <th>Pre-Tax Income</th>\n",
       "      <td>21.75</td>\n",
       "      <td>25.5</td>\n",
       "      <td>29.63</td>\n",
       "      <td>34.16</td>\n",
       "      <td>39.15</td>\n",
       "      <td>44.64</td>\n",
       "    </tr>\n",
       "    <tr>\n",
       "      <th>less: Taxes</th>\n",
       "      <td>-6.525</td>\n",
       "      <td>-7.65</td>\n",
       "      <td>-8.89</td>\n",
       "      <td>-10.25</td>\n",
       "      <td>-11.75</td>\n",
       "      <td>-13.39</td>\n",
       "    </tr>\n",
       "    <tr>\n",
       "      <th>Net Income</th>\n",
       "      <td>15.225</td>\n",
       "      <td>17.85</td>\n",
       "      <td>20.74</td>\n",
       "      <td>23.91</td>\n",
       "      <td>27.41</td>\n",
       "      <td>31.25</td>\n",
       "    </tr>\n",
       "  </tbody>\n",
       "</table>\n",
       "</div>"
      ],
      "text/plain": [
       "                Year 1 Year 2  Year 3  Year 4  Year 5  Year 6\n",
       "Sales              150  165.0  181.50  199.65  219.62  241.58\n",
       "EBITDA            45.0   49.5   54.45   59.90   65.88   72.47\n",
       "less: D&A         -7.5  -8.25   -9.08   -9.98  -10.98  -12.08\n",
       "EBIT              37.5  41.25   45.38   49.91   54.90   60.39\n",
       "less: Interest  -15.75 -15.75  -15.75  -15.75  -15.75  -15.75\n",
       "Pre-Tax Income   21.75   25.5   29.63   34.16   39.15   44.64\n",
       "less: Taxes     -6.525  -7.65   -8.89  -10.25  -11.75  -13.39\n",
       "Net Income      15.225  17.85   20.74   23.91   27.41   31.25"
      ]
     },
     "execution_count": 105,
     "metadata": {},
     "output_type": "execute_result"
    }
   ],
   "source": [
    "# Rename the columns\n",
    "IS = IS.rename(columns={1: 'Year 1', 2: 'Year 2', 3: 'Year 3', 4: 'Year 4', 5: 'Year 5', 6: 'Year 6' })\n",
    "\n",
    "# Round the df to only 2 dec. places\n",
    "decimals = 2    \n",
    "IS['Year 3'] = IS['Year 3'].apply(lambda x: round(x, decimals))\n",
    "IS['Year 4'] = IS['Year 4'].apply(lambda x: round(x, decimals))\n",
    "IS['Year 5'] = IS['Year 5'].apply(lambda x: round(x, decimals))\n",
    "IS['Year 6'] = IS['Year 6'].apply(lambda x: round(x, decimals))\n",
    "IS"
   ]
  },
  {
   "cell_type": "markdown",
   "id": "347ea5cc-2509-40e3-8167-b888ddb4ac92",
   "metadata": {},
   "source": [
    "### V. Cumulative Levered Free Cash Flow"
   ]
  },
  {
   "cell_type": "code",
   "execution_count": 97,
   "id": "1db7ebc8-9e27-465c-bed7-a589f1048e21",
   "metadata": {},
   "outputs": [
    {
     "data": {
      "application/com.datacamp.data-table.v1+json": {
       "is_truncated": false,
       "table": {
        "data": [
         {
          "1": null,
          "2": null,
          "3": null,
          "4": null,
          "5": null,
          "6": null,
          "index": "Net Income"
         },
         {
          "1": null,
          "2": null,
          "3": null,
          "4": null,
          "5": null,
          "6": null,
          "index": "plus: D&A"
         },
         {
          "1": null,
          "2": null,
          "3": null,
          "4": null,
          "5": null,
          "6": null,
          "index": "plus: non-cash interest"
         },
         {
          "1": null,
          "2": null,
          "3": null,
          "4": null,
          "5": null,
          "6": null,
          "index": "less: change in NWC"
         },
         {
          "1": null,
          "2": null,
          "3": null,
          "4": null,
          "5": null,
          "6": null,
          "index": "less: CapEx"
         },
         {
          "1": null,
          "2": null,
          "3": null,
          "4": null,
          "5": null,
          "6": null,
          "index": "FCF"
         }
        ],
        "schema": {
         "fields": [
          {
           "name": "index",
           "type": "string"
          },
          {
           "name": 1,
           "type": "string"
          },
          {
           "name": 2,
           "type": "string"
          },
          {
           "name": 3,
           "type": "string"
          },
          {
           "name": 4,
           "type": "string"
          },
          {
           "name": 5,
           "type": "string"
          },
          {
           "name": 6,
           "type": "string"
          }
         ],
         "pandas_version": "0.20.0",
         "primaryKey": [
          "index"
         ]
        }
       },
       "total_rows": 6
      },
      "text/html": [
       "<div>\n",
       "<style scoped>\n",
       "    .dataframe tbody tr th:only-of-type {\n",
       "        vertical-align: middle;\n",
       "    }\n",
       "\n",
       "    .dataframe tbody tr th {\n",
       "        vertical-align: top;\n",
       "    }\n",
       "\n",
       "    .dataframe thead th {\n",
       "        text-align: right;\n",
       "    }\n",
       "</style>\n",
       "<table border=\"1\" class=\"dataframe\">\n",
       "  <thead>\n",
       "    <tr style=\"text-align: right;\">\n",
       "      <th></th>\n",
       "      <th>1</th>\n",
       "      <th>2</th>\n",
       "      <th>3</th>\n",
       "      <th>4</th>\n",
       "      <th>5</th>\n",
       "      <th>6</th>\n",
       "    </tr>\n",
       "  </thead>\n",
       "  <tbody>\n",
       "    <tr>\n",
       "      <th>Net Income</th>\n",
       "      <td>NaN</td>\n",
       "      <td>NaN</td>\n",
       "      <td>NaN</td>\n",
       "      <td>NaN</td>\n",
       "      <td>NaN</td>\n",
       "      <td>NaN</td>\n",
       "    </tr>\n",
       "    <tr>\n",
       "      <th>plus: D&amp;A</th>\n",
       "      <td>NaN</td>\n",
       "      <td>NaN</td>\n",
       "      <td>NaN</td>\n",
       "      <td>NaN</td>\n",
       "      <td>NaN</td>\n",
       "      <td>NaN</td>\n",
       "    </tr>\n",
       "    <tr>\n",
       "      <th>plus: non-cash interest</th>\n",
       "      <td>NaN</td>\n",
       "      <td>NaN</td>\n",
       "      <td>NaN</td>\n",
       "      <td>NaN</td>\n",
       "      <td>NaN</td>\n",
       "      <td>NaN</td>\n",
       "    </tr>\n",
       "    <tr>\n",
       "      <th>less: change in NWC</th>\n",
       "      <td>NaN</td>\n",
       "      <td>NaN</td>\n",
       "      <td>NaN</td>\n",
       "      <td>NaN</td>\n",
       "      <td>NaN</td>\n",
       "      <td>NaN</td>\n",
       "    </tr>\n",
       "    <tr>\n",
       "      <th>less: CapEx</th>\n",
       "      <td>NaN</td>\n",
       "      <td>NaN</td>\n",
       "      <td>NaN</td>\n",
       "      <td>NaN</td>\n",
       "      <td>NaN</td>\n",
       "      <td>NaN</td>\n",
       "    </tr>\n",
       "    <tr>\n",
       "      <th>FCF</th>\n",
       "      <td>NaN</td>\n",
       "      <td>NaN</td>\n",
       "      <td>NaN</td>\n",
       "      <td>NaN</td>\n",
       "      <td>NaN</td>\n",
       "      <td>NaN</td>\n",
       "    </tr>\n",
       "  </tbody>\n",
       "</table>\n",
       "</div>"
      ],
      "text/plain": [
       "                           1    2    3    4    5    6\n",
       "Net Income               NaN  NaN  NaN  NaN  NaN  NaN\n",
       "plus: D&A                NaN  NaN  NaN  NaN  NaN  NaN\n",
       "plus: non-cash interest  NaN  NaN  NaN  NaN  NaN  NaN\n",
       "less: change in NWC      NaN  NaN  NaN  NaN  NaN  NaN\n",
       "less: CapEx              NaN  NaN  NaN  NaN  NaN  NaN\n",
       "FCF                      NaN  NaN  NaN  NaN  NaN  NaN"
      ]
     },
     "execution_count": 97,
     "metadata": {},
     "output_type": "execute_result"
    }
   ],
   "source": [
    "# Create a free cash flow df\n",
    "FCF = pd.DataFrame(data = None, \n",
    "                   index = ['Net Income', 'plus: D&A', 'plus: non-cash interest', \n",
    "                                         'less: change in NWC', 'less: CapEx', 'FCF'], \n",
    "                   columns = years)\n",
    "FCF"
   ]
  },
  {
   "cell_type": "code",
   "execution_count": 98,
   "id": "34bddd27-ea26-4309-ab5a-9790f0c361c6",
   "metadata": {},
   "outputs": [
    {
     "data": {
      "application/com.datacamp.data-table.v1+json": {
       "is_truncated": false,
       "table": {
        "data": [
         {
          "1": 15.225,
          "2": 17.85,
          "3": 20.7375,
          "4": 23.91375,
          "5": 27.407625,
          "6": 31.2508875,
          "index": "Net Income"
         },
         {
          "1": 7.5,
          "2": 8.25,
          "3": 9.075,
          "4": 9.9825,
          "5": 10.98075,
          "6": 12.078825,
          "index": "plus: D&A"
         },
         {
          "1": 9,
          "2": 9,
          "3": 9,
          "4": 9,
          "5": 9,
          "6": 9,
          "index": "plus: non-cash interest"
         },
         {
          "1": -3,
          "2": -3,
          "3": -3,
          "4": -3,
          "5": -3,
          "6": -3,
          "index": "less: change in NWC"
         },
         {
          "1": -10.5,
          "2": -11.55,
          "3": -12.705,
          "4": -13.9755,
          "5": -15.37305,
          "6": -16.910355,
          "index": "less: CapEx"
         },
         {
          "1": 18.225,
          "2": 20.55,
          "3": 23.1075,
          "4": 25.92075,
          "5": 29.015325,
          "6": 32.4193575,
          "index": "FCF"
         }
        ],
        "schema": {
         "fields": [
          {
           "name": "index",
           "type": "string"
          },
          {
           "name": 1,
           "type": "string"
          },
          {
           "name": 2,
           "type": "string"
          },
          {
           "name": 3,
           "type": "string"
          },
          {
           "name": 4,
           "type": "string"
          },
          {
           "name": 5,
           "type": "string"
          },
          {
           "name": 6,
           "type": "string"
          }
         ],
         "pandas_version": "0.20.0",
         "primaryKey": [
          "index"
         ]
        }
       },
       "total_rows": 6
      },
      "text/html": [
       "<div>\n",
       "<style scoped>\n",
       "    .dataframe tbody tr th:only-of-type {\n",
       "        vertical-align: middle;\n",
       "    }\n",
       "\n",
       "    .dataframe tbody tr th {\n",
       "        vertical-align: top;\n",
       "    }\n",
       "\n",
       "    .dataframe thead th {\n",
       "        text-align: right;\n",
       "    }\n",
       "</style>\n",
       "<table border=\"1\" class=\"dataframe\">\n",
       "  <thead>\n",
       "    <tr style=\"text-align: right;\">\n",
       "      <th></th>\n",
       "      <th>1</th>\n",
       "      <th>2</th>\n",
       "      <th>3</th>\n",
       "      <th>4</th>\n",
       "      <th>5</th>\n",
       "      <th>6</th>\n",
       "    </tr>\n",
       "  </thead>\n",
       "  <tbody>\n",
       "    <tr>\n",
       "      <th>Net Income</th>\n",
       "      <td>15.225</td>\n",
       "      <td>17.85</td>\n",
       "      <td>20.7375</td>\n",
       "      <td>23.91375</td>\n",
       "      <td>27.407625</td>\n",
       "      <td>31.250888</td>\n",
       "    </tr>\n",
       "    <tr>\n",
       "      <th>plus: D&amp;A</th>\n",
       "      <td>7.5</td>\n",
       "      <td>8.25</td>\n",
       "      <td>9.075</td>\n",
       "      <td>9.9825</td>\n",
       "      <td>10.98075</td>\n",
       "      <td>12.078825</td>\n",
       "    </tr>\n",
       "    <tr>\n",
       "      <th>plus: non-cash interest</th>\n",
       "      <td>9.0</td>\n",
       "      <td>9.0</td>\n",
       "      <td>9.0</td>\n",
       "      <td>9.0</td>\n",
       "      <td>9.0</td>\n",
       "      <td>9.0</td>\n",
       "    </tr>\n",
       "    <tr>\n",
       "      <th>less: change in NWC</th>\n",
       "      <td>-3</td>\n",
       "      <td>-3</td>\n",
       "      <td>-3</td>\n",
       "      <td>-3</td>\n",
       "      <td>-3</td>\n",
       "      <td>-3</td>\n",
       "    </tr>\n",
       "    <tr>\n",
       "      <th>less: CapEx</th>\n",
       "      <td>-10.5</td>\n",
       "      <td>-11.55</td>\n",
       "      <td>-12.705</td>\n",
       "      <td>-13.9755</td>\n",
       "      <td>-15.37305</td>\n",
       "      <td>-16.910355</td>\n",
       "    </tr>\n",
       "    <tr>\n",
       "      <th>FCF</th>\n",
       "      <td>18.225</td>\n",
       "      <td>20.55</td>\n",
       "      <td>23.1075</td>\n",
       "      <td>25.92075</td>\n",
       "      <td>29.015325</td>\n",
       "      <td>32.419358</td>\n",
       "    </tr>\n",
       "  </tbody>\n",
       "</table>\n",
       "</div>"
      ],
      "text/plain": [
       "                              1      2        3         4          5  \\\n",
       "Net Income               15.225  17.85  20.7375  23.91375  27.407625   \n",
       "plus: D&A                   7.5   8.25    9.075    9.9825   10.98075   \n",
       "plus: non-cash interest     9.0    9.0      9.0       9.0        9.0   \n",
       "less: change in NWC          -3     -3       -3        -3         -3   \n",
       "less: CapEx               -10.5 -11.55  -12.705  -13.9755  -15.37305   \n",
       "FCF                      18.225  20.55  23.1075  25.92075  29.015325   \n",
       "\n",
       "                                 6  \n",
       "Net Income               31.250888  \n",
       "plus: D&A                12.078825  \n",
       "plus: non-cash interest        9.0  \n",
       "less: change in NWC             -3  \n",
       "less: CapEx             -16.910355  \n",
       "FCF                      32.419358  "
      ]
     },
     "execution_count": 98,
     "metadata": {},
     "output_type": "execute_result"
    }
   ],
   "source": [
    "# Calculate the FCF \n",
    "FCF.loc['Net Income'] = IS.loc['Net Income']\n",
    "FCF.loc['plus: D&A'] = -IS.loc['less: D&A']\n",
    "FCF.loc['plus: non-cash interest'] = -IS.loc['less: Interest'] - interest['senior_bank_debt']\n",
    "FCF.loc['less: change in NWC'] = -IS_assumptions['change_in_NWC']\n",
    "FCF.loc['less: CapEx'] = IS.loc['Sales'] * -IS_assumptions['CAPEX % of Sales']\n",
    "FCF.loc['FCF'] = FCF.loc[['Net Income', 'plus: D&A', 'plus: non-cash interest', \n",
    "                                         'less: change in NWC', 'less: CapEx']].sum()\n",
    "FCF"
   ]
  },
  {
   "cell_type": "code",
   "execution_count": 99,
   "id": "02ddb6ab-09ec-441d-ad26-9c2c5a407ed0",
   "metadata": {},
   "outputs": [
    {
     "data": {
      "text/plain": [
       "116.81857500000002"
      ]
     },
     "execution_count": 99,
     "metadata": {},
     "output_type": "execute_result"
    }
   ],
   "source": [
    "# Calculate the FCF \n",
    "cumulative_fcf = FCF[[1,2,3,4,5]].loc['FCF'].sum()\n",
    "cumulative_fcf"
   ]
  },
  {
   "cell_type": "markdown",
   "id": "52f9a0c6-b762-4064-91b6-9080f7f8cff0",
   "metadata": {},
   "source": [
    "### VI. Exit Value and Returns"
   ]
  },
  {
   "cell_type": "code",
   "execution_count": 100,
   "id": "a5cdb5d8-bcd1-455a-821f-b7b8b91c6063",
   "metadata": {},
   "outputs": [
    {
     "data": {
      "text/plain": [
       "{'exit_multiple': 10,\n",
       " 'Exit_EV': 724.7295000000003,\n",
       " 'Debt': 90.0,\n",
       " 'Exit_Equity_Value': 814.7295000000003}"
      ]
     },
     "execution_count": 100,
     "metadata": {},
     "output_type": "execute_result"
    }
   ],
   "source": [
    "# Create the exit calculations table\n",
    "exit_equity_value = {\n",
    "    'exit_multiple':10,\n",
    "}\n",
    "exit_equity_value['Exit_EV'] = exit_equity_value['exit_multiple'] * IS[6].loc['EBITDA']\n",
    "exit_equity_value['Debt'] = sources_sche['sen_bank_debt'] - sources_sche['sellers_notes']\n",
    "exit_equity_value['Exit_Equity_Value'] = exit_equity_value['Exit_EV'] + exit_equity_value['Debt']\n",
    "exit_equity_value"
   ]
  },
  {
   "cell_type": "code",
   "execution_count": 101,
   "id": "67b699db-1e61-43b2-bb4f-c0db200fdaa1",
   "metadata": {},
   "outputs": [
    {
     "data": {
      "text/plain": [
       "{'exit_multiple': 10,\n",
       " 'EBITDA_Growth': 274.72950000000026,\n",
       " 'Multiple_Expansion': 724.7295000000003,\n",
       " 'Returns_to_Equity': 634.7295000000003,\n",
       " 'Debt_Paydown': -364.72950000000026}"
      ]
     },
     "execution_count": 101,
     "metadata": {},
     "output_type": "execute_result"
    }
   ],
   "source": [
    "# Create the returns attribution table\n",
    "returns_attribution = {\n",
    "    'exit_multiple':10,\n",
    "}\n",
    "returns_attribution['EBITDA_Growth'] = (IS[6].loc['EBITDA'] - IS[1].loc['EBITDA']) * entry_assumptions['purchase_multiple']\n",
    "returns_attribution['Multiple_Expansion'] = returns_attribution['exit_multiple'] * IS[6]['EBITDA'] \n",
    "returns_attribution['Returns_to_Equity'] = (exit_equity_value['Exit_EV'] - exit_equity_value['Debt'])\n",
    "returns_attribution['Debt_Paydown'] = returns_attribution['Returns_to_Equity'] - (returns_attribution['EBITDA_Growth'] + returns_attribution['Multiple_Expansion'])\n",
    "returns_attribution"
   ]
  },
  {
   "cell_type": "code",
   "execution_count": 102,
   "id": "3f975606-02c2-4434-b19b-4d111cda7496",
   "metadata": {},
   "outputs": [
    {
     "data": {
      "text/plain": [
       "{'money_on_money_multiple': 2.9201774193548395}"
      ]
     },
     "execution_count": 102,
     "metadata": {},
     "output_type": "execute_result"
    }
   ],
   "source": [
    "# Create a dict to save variable for MoM\n",
    "MoM = {\n",
    "}\n",
    "\n",
    "MoM['money_on_money_multiple'] = exit_equity_value['Exit_Equity_Value'] / sources_sche['equity_funding']\n",
    "MoM"
   ]
  },
  {
   "cell_type": "code",
   "execution_count": 103,
   "id": "2379cd9a-b8f0-45f0-afcd-f3092c696132",
   "metadata": {},
   "outputs": [
    {
     "data": {
      "text/plain": [
       "{'internal_rate_of_return': 0.23903007368331464}"
      ]
     },
     "execution_count": 103,
     "metadata": {},
     "output_type": "execute_result"
    }
   ],
   "source": [
    "# Create a dict to save variable for IRR\n",
    "IRR = {\n",
    "}\n",
    "\n",
    "IRR['internal_rate_of_return'] = (exit_equity_value['Exit_Equity_Value'] / sources_sche['equity_funding']) ** (1/5) - 1\n",
    "IRR"
   ]
  }
 ],
 "metadata": {
  "colab": {
   "name": "Welcome to DataCamp Workspaces.ipynb",
   "provenance": []
  },
  "kernelspec": {
   "display_name": "Python 3 (ipykernel)",
   "language": "python",
   "name": "python3"
  },
  "language_info": {
   "codemirror_mode": {
    "name": "ipython",
    "version": 3
   },
   "file_extension": ".py",
   "mimetype": "text/x-python",
   "name": "python",
   "nbconvert_exporter": "python",
   "pygments_lexer": "ipython3",
   "version": "3.8.10"
  }
 },
 "nbformat": 4,
 "nbformat_minor": 5
}
