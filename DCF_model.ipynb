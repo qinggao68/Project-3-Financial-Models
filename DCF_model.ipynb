{
 "cells": [
  {
   "cell_type": "markdown",
   "id": "a4ac761a-8363-4cb9-a111-a9c2deff4a1e",
   "metadata": {},
   "source": [
    "## DCF Model - Target Company"
   ]
  },
  {
   "cell_type": "markdown",
   "id": "747e30e2-d37d-4b26-bb2a-1e2e096640b8",
   "metadata": {},
   "source": [
    "### I. Data Preparation "
   ]
  },
  {
   "cell_type": "code",
   "execution_count": 3,
   "id": "4bcd1993-db36-4ce4-b5cc-eadd9848709b",
   "metadata": {},
   "outputs": [],
   "source": [
    "# Load packages \n",
    "import numpy as np\n",
    "import pandas as pd\n",
    "import matplotlib.pyplot as plt\n",
    "from datetime import datetime \n",
    "start_time = datetime.now() \n",
    "# datetime object containing current date and time\n",
    "now = datetime.now()\n",
    "# dt_string = now.strftime(“%d/%m/%Y %H:%M:%S”)\n",
    "%matplotlib inline"
   ]
  },
  {
   "cell_type": "code",
   "execution_count": 18,
   "id": "e1557ea6-62a6-4dff-8066-13414c80f15d",
   "metadata": {},
   "outputs": [
    {
     "data": {
      "application/com.datacamp.data-table.v1+json": {
       "is_truncated": false,
       "table": {
        "data": [
         {
          "2017": null,
          "2018": null,
          "2019": null,
          "2020": null,
          "2021": null,
          "Unnamed: 0": "Revenue:",
          "index": 0
         },
         {
          "2017": 8.4,
          "2018": 7.7,
          "2019": 6.7,
          "2020": 8,
          "2021": 8.3,
          "Unnamed: 0": "Patient Revenue:",
          "index": 1
         },
         {
          "2017": 0.6,
          "2018": 0.9,
          "2019": 2.2,
          "2020": 0.9,
          "2021": 0.2,
          "Unnamed: 0": "Other Revenue:",
          "index": 2
         },
         {
          "2017": -0.1,
          "2018": -0.2,
          "2019": -0.3,
          "2020": -0.1,
          "2021": -0.1,
          "Unnamed: 0": "Returns & Allowances:",
          "index": 3
         },
         {
          "2017": 8.8,
          "2018": 8.4,
          "2019": 8.7,
          "2020": 8.8,
          "2021": 8.4,
          "Unnamed: 0": "Total Net Revenue:",
          "index": 4
         },
         {
          "2017": null,
          "2018": null,
          "2019": null,
          "2020": null,
          "2021": null,
          "Unnamed: 0": "Cost of Goods Sold:",
          "index": 5
         },
         {
          "2017": 1.8,
          "2018": 1.2,
          "2019": 1.3,
          "2020": 1.3,
          "2021": 1.2,
          "Unnamed: 0": "Dental Supplies and Lab:",
          "index": 6
         },
         {
          "2017": 1.8,
          "2018": 1.2,
          "2019": 1.3,
          "2020": 1.3,
          "2021": 1.2,
          "Unnamed: 0": "Total COGS:",
          "index": 7
         },
         {
          "2017": 7,
          "2018": 7.2,
          "2019": 7.4,
          "2020": 7.4,
          "2021": 7.2,
          "Unnamed: 0": "Gross Margin:",
          "index": 8
         },
         {
          "2017": null,
          "2018": null,
          "2019": null,
          "2020": null,
          "2021": null,
          "Unnamed: 0": "Operating Expenses:",
          "index": 9
         },
         {
          "2017": 4.3,
          "2018": 4.1,
          "2019": 4.1,
          "2020": 4.5,
          "2021": 3,
          "Unnamed: 0": "Clinical Salaries and Benefits:",
          "index": 10
         },
         {
          "2017": 0.8,
          "2018": 0.8,
          "2019": 0.9,
          "2020": 0.9,
          "2021": 2,
          "Unnamed: 0": "Non Clinical Salaries and Benefits:",
          "index": 11
         },
         {
          "2017": 0.6,
          "2018": 0.6,
          "2019": 0.6,
          "2020": 0.8,
          "2021": 0.8,
          "Unnamed: 0": "Practice Occupancy:",
          "index": 12
         },
         {
          "2017": 1.3,
          "2018": 1.3,
          "2019": 1.1,
          "2020": 1,
          "2021": 1.1,
          "Unnamed: 0": "Practice Selling G&A:",
          "index": 13
         },
         {
          "2017": 6.9,
          "2018": 6.8,
          "2019": 6.7,
          "2020": 7.2,
          "2021": 6.8,
          "Unnamed: 0": "Total Operating Expenses:",
          "index": 14
         },
         {
          "2017": 0.1,
          "2018": 0.3,
          "2019": 0.7,
          "2020": 0.2,
          "2021": 0.4,
          "Unnamed: 0": "Operating Income:",
          "index": 15
         },
         {
          "2017": 0,
          "2018": 0,
          "2019": 0,
          "2020": 0,
          "2021": 0,
          "Unnamed: 0": "Income Taxes:",
          "index": 16
         },
         {
          "2017": 0.1,
          "2018": 0.3,
          "2019": 0.7,
          "2020": 0.2,
          "2021": 0.4,
          "Unnamed: 0": "Net Income:",
          "index": 17
         },
         {
          "2017": null,
          "2018": null,
          "2019": null,
          "2020": null,
          "2021": null,
          "Unnamed: 0": "Key Metrics and Financial Ratios:",
          "index": 18
         },
         {
          "2017": null,
          "2018": null,
          "2019": null,
          "2020": null,
          "2021": null,
          "Unnamed: 0": "EBITDA Calculation:",
          "index": 19
         },
         {
          "2017": 0.1,
          "2018": 0.3,
          "2019": 0.7,
          "2020": 0.2,
          "2021": 0.4,
          "Unnamed: 0": "Operating Income:",
          "index": 20
         },
         {
          "2017": 0.3,
          "2018": 0.4,
          "2019": 0.2,
          "2020": 0.1,
          "2021": 0,
          "Unnamed: 0": "Plus: Depreciation & Amortization:",
          "index": 21
         },
         {
          "2017": 0.5,
          "2018": 0.7,
          "2019": 0.9,
          "2020": 0.4,
          "2021": 0.4,
          "Unnamed: 0": "EBITDA:",
          "index": 22
         }
        ],
        "schema": {
         "fields": [
          {
           "name": "index",
           "type": "integer"
          },
          {
           "name": "Unnamed: 0",
           "type": "string"
          },
          {
           "name": "2017",
           "type": "number"
          },
          {
           "name": "2018",
           "type": "number"
          },
          {
           "name": "2019",
           "type": "number"
          },
          {
           "name": "2020",
           "type": "number"
          },
          {
           "name": "2021",
           "type": "number"
          }
         ],
         "pandas_version": "0.20.0",
         "primaryKey": [
          "index"
         ]
        }
       },
       "total_rows": 23
      },
      "text/html": [
       "<div>\n",
       "<style scoped>\n",
       "    .dataframe tbody tr th:only-of-type {\n",
       "        vertical-align: middle;\n",
       "    }\n",
       "\n",
       "    .dataframe tbody tr th {\n",
       "        vertical-align: top;\n",
       "    }\n",
       "\n",
       "    .dataframe thead th {\n",
       "        text-align: right;\n",
       "    }\n",
       "</style>\n",
       "<table border=\"1\" class=\"dataframe\">\n",
       "  <thead>\n",
       "    <tr style=\"text-align: right;\">\n",
       "      <th></th>\n",
       "      <th>Unnamed: 0</th>\n",
       "      <th>2017</th>\n",
       "      <th>2018</th>\n",
       "      <th>2019</th>\n",
       "      <th>2020</th>\n",
       "      <th>2021</th>\n",
       "    </tr>\n",
       "  </thead>\n",
       "  <tbody>\n",
       "    <tr>\n",
       "      <th>0</th>\n",
       "      <td>Revenue:</td>\n",
       "      <td>NaN</td>\n",
       "      <td>NaN</td>\n",
       "      <td>NaN</td>\n",
       "      <td>NaN</td>\n",
       "      <td>NaN</td>\n",
       "    </tr>\n",
       "    <tr>\n",
       "      <th>1</th>\n",
       "      <td>Patient Revenue:</td>\n",
       "      <td>8.4</td>\n",
       "      <td>7.7</td>\n",
       "      <td>6.7</td>\n",
       "      <td>8.0</td>\n",
       "      <td>8.3</td>\n",
       "    </tr>\n",
       "    <tr>\n",
       "      <th>2</th>\n",
       "      <td>Other Revenue:</td>\n",
       "      <td>0.6</td>\n",
       "      <td>0.9</td>\n",
       "      <td>2.2</td>\n",
       "      <td>0.9</td>\n",
       "      <td>0.2</td>\n",
       "    </tr>\n",
       "    <tr>\n",
       "      <th>3</th>\n",
       "      <td>Returns &amp; Allowances:</td>\n",
       "      <td>-0.1</td>\n",
       "      <td>-0.2</td>\n",
       "      <td>-0.3</td>\n",
       "      <td>-0.1</td>\n",
       "      <td>-0.1</td>\n",
       "    </tr>\n",
       "    <tr>\n",
       "      <th>4</th>\n",
       "      <td>Total Net Revenue:</td>\n",
       "      <td>8.8</td>\n",
       "      <td>8.4</td>\n",
       "      <td>8.7</td>\n",
       "      <td>8.8</td>\n",
       "      <td>8.4</td>\n",
       "    </tr>\n",
       "    <tr>\n",
       "      <th>5</th>\n",
       "      <td>Cost of Goods Sold:</td>\n",
       "      <td>NaN</td>\n",
       "      <td>NaN</td>\n",
       "      <td>NaN</td>\n",
       "      <td>NaN</td>\n",
       "      <td>NaN</td>\n",
       "    </tr>\n",
       "    <tr>\n",
       "      <th>6</th>\n",
       "      <td>Dental Supplies and Lab:</td>\n",
       "      <td>1.8</td>\n",
       "      <td>1.2</td>\n",
       "      <td>1.3</td>\n",
       "      <td>1.3</td>\n",
       "      <td>1.2</td>\n",
       "    </tr>\n",
       "    <tr>\n",
       "      <th>7</th>\n",
       "      <td>Total COGS:</td>\n",
       "      <td>1.8</td>\n",
       "      <td>1.2</td>\n",
       "      <td>1.3</td>\n",
       "      <td>1.3</td>\n",
       "      <td>1.2</td>\n",
       "    </tr>\n",
       "    <tr>\n",
       "      <th>8</th>\n",
       "      <td>Gross Margin:</td>\n",
       "      <td>7.0</td>\n",
       "      <td>7.2</td>\n",
       "      <td>7.4</td>\n",
       "      <td>7.4</td>\n",
       "      <td>7.2</td>\n",
       "    </tr>\n",
       "    <tr>\n",
       "      <th>9</th>\n",
       "      <td>Operating Expenses:</td>\n",
       "      <td>NaN</td>\n",
       "      <td>NaN</td>\n",
       "      <td>NaN</td>\n",
       "      <td>NaN</td>\n",
       "      <td>NaN</td>\n",
       "    </tr>\n",
       "    <tr>\n",
       "      <th>10</th>\n",
       "      <td>Clinical Salaries and Benefits:</td>\n",
       "      <td>4.3</td>\n",
       "      <td>4.1</td>\n",
       "      <td>4.1</td>\n",
       "      <td>4.5</td>\n",
       "      <td>3.0</td>\n",
       "    </tr>\n",
       "    <tr>\n",
       "      <th>11</th>\n",
       "      <td>Non Clinical Salaries and Benefits:</td>\n",
       "      <td>0.8</td>\n",
       "      <td>0.8</td>\n",
       "      <td>0.9</td>\n",
       "      <td>0.9</td>\n",
       "      <td>2.0</td>\n",
       "    </tr>\n",
       "    <tr>\n",
       "      <th>12</th>\n",
       "      <td>Practice Occupancy:</td>\n",
       "      <td>0.6</td>\n",
       "      <td>0.6</td>\n",
       "      <td>0.6</td>\n",
       "      <td>0.8</td>\n",
       "      <td>0.8</td>\n",
       "    </tr>\n",
       "    <tr>\n",
       "      <th>13</th>\n",
       "      <td>Practice Selling G&amp;A:</td>\n",
       "      <td>1.3</td>\n",
       "      <td>1.3</td>\n",
       "      <td>1.1</td>\n",
       "      <td>1.0</td>\n",
       "      <td>1.1</td>\n",
       "    </tr>\n",
       "    <tr>\n",
       "      <th>14</th>\n",
       "      <td>Total Operating Expenses:</td>\n",
       "      <td>6.9</td>\n",
       "      <td>6.8</td>\n",
       "      <td>6.7</td>\n",
       "      <td>7.2</td>\n",
       "      <td>6.8</td>\n",
       "    </tr>\n",
       "    <tr>\n",
       "      <th>15</th>\n",
       "      <td>Operating Income:</td>\n",
       "      <td>0.1</td>\n",
       "      <td>0.3</td>\n",
       "      <td>0.7</td>\n",
       "      <td>0.2</td>\n",
       "      <td>0.4</td>\n",
       "    </tr>\n",
       "    <tr>\n",
       "      <th>16</th>\n",
       "      <td>Income Taxes:</td>\n",
       "      <td>0.0</td>\n",
       "      <td>0.0</td>\n",
       "      <td>0.0</td>\n",
       "      <td>0.0</td>\n",
       "      <td>0.0</td>\n",
       "    </tr>\n",
       "    <tr>\n",
       "      <th>17</th>\n",
       "      <td>Net Income:</td>\n",
       "      <td>0.1</td>\n",
       "      <td>0.3</td>\n",
       "      <td>0.7</td>\n",
       "      <td>0.2</td>\n",
       "      <td>0.4</td>\n",
       "    </tr>\n",
       "    <tr>\n",
       "      <th>18</th>\n",
       "      <td>Key Metrics and Financial Ratios:</td>\n",
       "      <td>NaN</td>\n",
       "      <td>NaN</td>\n",
       "      <td>NaN</td>\n",
       "      <td>NaN</td>\n",
       "      <td>NaN</td>\n",
       "    </tr>\n",
       "    <tr>\n",
       "      <th>19</th>\n",
       "      <td>EBITDA Calculation:</td>\n",
       "      <td>NaN</td>\n",
       "      <td>NaN</td>\n",
       "      <td>NaN</td>\n",
       "      <td>NaN</td>\n",
       "      <td>NaN</td>\n",
       "    </tr>\n",
       "    <tr>\n",
       "      <th>20</th>\n",
       "      <td>Operating Income:</td>\n",
       "      <td>0.1</td>\n",
       "      <td>0.3</td>\n",
       "      <td>0.7</td>\n",
       "      <td>0.2</td>\n",
       "      <td>0.4</td>\n",
       "    </tr>\n",
       "    <tr>\n",
       "      <th>21</th>\n",
       "      <td>Plus: Depreciation &amp; Amortization:</td>\n",
       "      <td>0.3</td>\n",
       "      <td>0.4</td>\n",
       "      <td>0.2</td>\n",
       "      <td>0.1</td>\n",
       "      <td>0.0</td>\n",
       "    </tr>\n",
       "    <tr>\n",
       "      <th>22</th>\n",
       "      <td>EBITDA:</td>\n",
       "      <td>0.5</td>\n",
       "      <td>0.7</td>\n",
       "      <td>0.9</td>\n",
       "      <td>0.4</td>\n",
       "      <td>0.4</td>\n",
       "    </tr>\n",
       "  </tbody>\n",
       "</table>\n",
       "</div>"
      ],
      "text/plain": [
       "                             Unnamed: 0  2017  2018  2019  2020  2021\n",
       "0                              Revenue:   NaN   NaN   NaN   NaN   NaN\n",
       "1                      Patient Revenue:   8.4   7.7   6.7   8.0   8.3\n",
       "2                        Other Revenue:   0.6   0.9   2.2   0.9   0.2\n",
       "3                 Returns & Allowances:  -0.1  -0.2  -0.3  -0.1  -0.1\n",
       "4                    Total Net Revenue:   8.8   8.4   8.7   8.8   8.4\n",
       "5                   Cost of Goods Sold:   NaN   NaN   NaN   NaN   NaN\n",
       "6              Dental Supplies and Lab:   1.8   1.2   1.3   1.3   1.2\n",
       "7                           Total COGS:   1.8   1.2   1.3   1.3   1.2\n",
       "8                         Gross Margin:   7.0   7.2   7.4   7.4   7.2\n",
       "9                   Operating Expenses:   NaN   NaN   NaN   NaN   NaN\n",
       "10      Clinical Salaries and Benefits:   4.3   4.1   4.1   4.5   3.0\n",
       "11  Non Clinical Salaries and Benefits:   0.8   0.8   0.9   0.9   2.0\n",
       "12                  Practice Occupancy:   0.6   0.6   0.6   0.8   0.8\n",
       "13                Practice Selling G&A:   1.3   1.3   1.1   1.0   1.1\n",
       "14            Total Operating Expenses:   6.9   6.8   6.7   7.2   6.8\n",
       "15                    Operating Income:   0.1   0.3   0.7   0.2   0.4\n",
       "16                        Income Taxes:   0.0   0.0   0.0   0.0   0.0\n",
       "17                          Net Income:   0.1   0.3   0.7   0.2   0.4\n",
       "18    Key Metrics and Financial Ratios:   NaN   NaN   NaN   NaN   NaN\n",
       "19                  EBITDA Calculation:   NaN   NaN   NaN   NaN   NaN\n",
       "20                    Operating Income:   0.1   0.3   0.7   0.2   0.4\n",
       "21   Plus: Depreciation & Amortization:   0.3   0.4   0.2   0.1   0.0\n",
       "22                              EBITDA:   0.5   0.7   0.9   0.4   0.4"
      ]
     },
     "execution_count": 18,
     "metadata": {},
     "output_type": "execute_result"
    }
   ],
   "source": [
    "# Read the Target Company's IS\n",
    "# NOTE: numbers are in the \"MM\"\n",
    "dcf_data = pd.read_csv(\"target_company_IS.csv\")\n",
    "dcf_data"
   ]
  },
  {
   "cell_type": "markdown",
   "id": "b4320828-2a67-4142-a5e7-56ace2290a0d",
   "metadata": {},
   "source": [
    "### II. Project IS"
   ]
  },
  {
   "cell_type": "code",
   "execution_count": 19,
   "id": "b4c338f6-36c9-4763-947d-4f3c1ccdf59e",
   "metadata": {},
   "outputs": [
    {
     "data": {
      "text/plain": [
       "LTM 2021    8.4\n",
       "2022P       NaN\n",
       "2023P       NaN\n",
       "2024P       NaN\n",
       "2025P       NaN\n",
       "2026P       NaN\n",
       "dtype: float64"
      ]
     },
     "execution_count": 19,
     "metadata": {},
     "output_type": "execute_result"
    }
   ],
   "source": [
    "# Create a panda series to save the total net revenue \n",
    "years = ['LTM 2021', '2022P', '2023P', '2024P', '2025P', '2026P']\n",
    "total_revenue = pd.Series(index = years)\n",
    "total_revenue['LTM 2021'] = dcf_data.iloc[4]['2021']\n",
    "total_revenue"
   ]
  },
  {
   "cell_type": "code",
   "execution_count": 20,
   "id": "77552116-0379-4bae-94b7-aaa01fd44b70",
   "metadata": {},
   "outputs": [
    {
     "data": {
      "text/plain": [
       "LTM 2021     8.400000\n",
       "2022P        9.240000\n",
       "2023P       10.164000\n",
       "2024P       11.180400\n",
       "2025P       12.298440\n",
       "2026P       13.528284\n",
       "dtype: float64"
      ]
     },
     "execution_count": 20,
     "metadata": {},
     "output_type": "execute_result"
    }
   ],
   "source": [
    "growth_rate = 0.1\n",
    "for year in range(1, 6):\n",
    "    total_revenue[year] = total_revenue[year - 1] * (1 + growth_rate)\n",
    "total_revenue"
   ]
  },
  {
   "cell_type": "code",
   "execution_count": 21,
   "id": "3064462a-f1bb-49e2-865e-b181afe4cbec",
   "metadata": {},
   "outputs": [
    {
     "data": {
      "text/plain": [
       "LTM 2021         NaN\n",
       "2022P       0.489600\n",
       "2023P       0.509760\n",
       "2024P       0.531936\n",
       "2025P       0.556330\n",
       "2026P       0.583163\n",
       "dtype: float64"
      ]
     },
     "execution_count": 21,
     "metadata": {},
     "output_type": "execute_result"
    }
   ],
   "source": [
    "# Save financial metrics \n",
    "EBITDA = dcf_data.iloc[22]['2021']\n",
    "EBITDA_margin = dcf_data.iloc[22]['2021'] / dcf_data.iloc[4]['2021']\n",
    "DA = dcf_data.iloc[21]['2021']\n",
    "EBIT = dcf_data.iloc[20]['2021']\n",
    "NWC_perc_Rev = 0.02\n",
    "NWC = total_revenue * NWC_perc_Rev\n",
    "change_in_NWC = NWC.shift(1) - NWC \n",
    "CapEx_perc_Rev = 0.02\n",
    "CapEx = -(total_revenue * CapEx_perc_Rev)\n",
    "tax_rate = 0.28\n",
    "taxes = -EBIT * tax_rate\n",
    "NOPAT = EBIT + taxes\n",
    "unlevered_fcf = NOPAT + DA - change_in_NWC - CapEx\n",
    "unlevered_fcf"
   ]
  },
  {
   "cell_type": "markdown",
   "id": "e5284ab6-ad3a-483d-a427-31b424da7424",
   "metadata": {},
   "source": [
    "### III. Calculate DCF"
   ]
  },
  {
   "cell_type": "code",
   "execution_count": 22,
   "id": "605249d3-73d7-44a8-86e2-0622d78b696d",
   "metadata": {},
   "outputs": [
    {
     "data": {
      "text/plain": [
       "2.900524691358026"
      ]
     },
     "execution_count": 22,
     "metadata": {},
     "output_type": "execute_result"
    }
   ],
   "source": [
    "# Define WACC, terminal growth to calculate the dcf \n",
    "WACC = 0.20\n",
    "terminal_growth = 0.02\n",
    "terminal_value = ((unlevered_fcf[-1] * (1 + terminal_growth)) / \n",
    "                 (WACC - terminal_growth))\n",
    "discount_factors = [(1 / (1 + WACC)) ** i for i in range (1,6)]\n",
    "dcf_value = (sum(unlevered_fcf[1:] * discount_factors) +\n",
    "            terminal_value * discount_factors[-1])\n",
    "dcf_value"
   ]
  },
  {
   "cell_type": "markdown",
   "id": "7e3fc10e-144b-443f-a2f5-cf17467e1e48",
   "metadata": {},
   "source": [
    "### IV. Monte Carlo Simulation "
   ]
  },
  {
   "cell_type": "code",
   "execution_count": 24,
   "id": "89adc523-b923-4f5c-8705-70d73eb064bb",
   "metadata": {},
   "outputs": [],
   "source": [
    "# Define the #s of monte carlo simulation to run \n",
    "nums_iterations = 1000\n",
    "\n",
    "# create a function to take all the input and run the function based on the #s of interations defined\n",
    "def monte_carlo_sim():\n",
    "    \n",
    "    # Calculate DCF value for each set of random inputs\n",
    "    monte_carlo_output = []\n",
    "    for i in range(nums_iterations):\n",
    "        for year in range(1, 6):\n",
    "            total_revenue[year] = total_revenue[year - 1] * (1 + growth_rate)      \n",
    "        EBITDA = dcf_data.iloc[22]['2021']\n",
    "        DA = dcf_data.iloc[21]['2021']\n",
    "        EBIT = dcf_data.iloc[20]['2021']\n",
    "        NWC = total_revenue * NWC_perc_Rev\n",
    "        change_in_NWC = NWC.shift(1) - NWC\n",
    "        CapEx = -(total_revenue * CapEx_perc_Rev)\n",
    "        taxes = -EBIT * tax_rate\n",
    "        NOPAT = EBIT + taxes\n",
    "        unlevered_fcf = NOPAT + DA - change_in_NWC - CapEx\n",
    "\n",
    "        \n",
    "        # DCF valuation\n",
    "        terminal_value = (unlevered_fcf[-1] * 1.02) / (WACC - 0.02)\n",
    "        unlevered_fcf[-1] += terminal_value\n",
    "        discount_factors = [(1 / (1 + WACC)) ** i for i in range (1,6)]\n",
    "        dcf_value = sum(unlevered_fcf[1:] * discount_factors )\n",
    "        monte_carlo_output.append(dcf_value)\n",
    "    \n",
    "    return monte_carlo_output"
   ]
  },
  {
   "cell_type": "code",
   "execution_count": 25,
   "id": "b559e22c-83ef-433e-bd41-c3be4eece225",
   "metadata": {},
   "outputs": [
    {
     "name": "stdout",
     "output_type": "stream",
     "text": [
      "CPU times: user 1.36 s, sys: 0 ns, total: 1.36 s\n",
      "Wall time: 1.36 s\n"
     ]
    },
    {
     "data": {
      "image/png": "[encoded data removed]",
      "text/plain": [
       "<Figure size 432x288 with 1 Axes>"
      ]
     },
     "metadata": {
      "needs_background": "light"
     },
     "output_type": "display_data"
    }
   ],
   "source": [
    "%time plt.hist(monte_carlo_sim(), bins=10, color='r')\n",
    "plt.show()"
   ]
  },
  {
   "cell_type": "markdown",
   "id": "a5051842-b973-480f-851e-24db0d127429",
   "metadata": {},
   "source": [
    "This target company is worth around 2.9MM. "
   ]
  }
 ],
 "metadata": {
  "kernelspec": {
   "display_name": "Python 3 (ipykernel)",
   "language": "python",
   "name": "python3"
  },
  "language_info": {
   "codemirror_mode": {
    "name": "ipython",
    "version": 3
   },
   "file_extension": ".py",
   "mimetype": "text/x-python",
   "name": "python",
   "nbconvert_exporter": "python",
   "pygments_lexer": "ipython3",
   "version": "3.8.10"
  }
 },
 "nbformat": 4,
 "nbformat_minor": 5
}
